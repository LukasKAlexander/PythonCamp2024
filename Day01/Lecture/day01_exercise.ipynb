{
 "cells": [
  {
   "cell_type": "markdown",
   "metadata": {},
   "source": [
    "#  Exercise: Data Types, Loops, and Functions"
   ]
  },
  {
   "cell_type": "markdown",
   "metadata": {},
   "source": [
    "1. Write a `for` loop, `while` loop, or a `function` (or all three!) to create a list of the first 10 numbers of the Fibonacci sequence.\n"
   ]
  },
  {
   "cell_type": "markdown",
   "metadata": {},
   "source": [
    "- The Fibonacci sequence is defined as a sequence in which each term is the sum of the two previous terms:"
   ]
  },
  {
   "cell_type": "markdown",
   "metadata": {},
   "source": [
    "$$x_{i} = x_{i-1} + x_{i-2},$$ \n",
    "$$\\text{where} x_1 = 1, x_2 = 1$$"
   ]
  },
  {
   "cell_type": "code",
   "execution_count": 2,
   "metadata": {},
   "outputs": [
    {
     "name": "stdout",
     "output_type": "stream",
     "text": [
      "[1, 1, 2, 3, 5, 8, 13, 21, 34, 55]\n"
     ]
    }
   ],
   "source": [
    "fibonacci = [1,1]\n",
    "\n",
    "for i in range(8):\n",
    "    next_number = fibonacci[-1] + fibonacci[-2]\n",
    "    fibonacci.append(next_number)\n",
    "\n",
    "print(fibonacci)"
   ]
  },
  {
   "cell_type": "markdown",
   "metadata": {},
   "source": [
    "2. Can you now do it for the first 30 numbers? "
   ]
  },
  {
   "cell_type": "code",
   "execution_count": 3,
   "metadata": {},
   "outputs": [
    {
     "name": "stdout",
     "output_type": "stream",
     "text": [
      "[1, 1, 2, 3, 5, 8, 13, 21, 34, 55, 89, 144, 233, 377, 610, 987, 1597, 2584, 4181, 6765, 10946, 17711, 28657, 46368, 75025, 121393, 196418, 317811, 514229, 832040]\n"
     ]
    }
   ],
   "source": [
    "fibonacci = [1,1]\n",
    "\n",
    "for i in range(28):\n",
    "    next_number = fibonacci[-1] + fibonacci[-2]\n",
    "    fibonacci.append(next_number)\n",
    "\n",
    "print(fibonacci)"
   ]
  },
  {
   "cell_type": "markdown",
   "metadata": {},
   "source": [
    "3. Complete the functions below using your solutions "
   ]
  },
  {
   "cell_type": "code",
<<<<<<< HEAD
   "execution_count": 39,
=======
   "execution_count": 14,
>>>>>>> upstream/main
   "metadata": {},
   "outputs": [
    {
     "name": "stdout",
     "output_type": "stream",
     "text": [
      "word: True\n",
      "apple: False\n",
      "pear: False\n",
      "blackberry: False\n",
      "mango: True\n"
     ]
    }
   ],
   "source": [
    "# return true if there is no e in 'word', else false\n",
    "#def has_no_e(word):\n",
    "    # YOUR CODE HERE\n",
    "word = [\"word\", \"apple\", \"pear\", \"blackberry\", \"mango\"]\n",
    "\n",
    "def has_no_e(word):\n",
    "    if \"e\" in word:\n",
    "        return False\n",
    "    else:\n",
    "        return True\n",
    "for w in word:\n",
    "    print(f\"{w}: {has_no_e(w)}\")\n"
   ]
  },
  {
   "cell_type": "code",
   "execution_count": 38,
   "metadata": {},
   "outputs": [
    {
     "name": "stdout",
     "output_type": "stream",
     "text": [
      "word: False\n",
      "apple: True\n",
      "pear: True\n",
      "blackberry: True\n",
      "mango: False\n"
     ]
    }
   ],
   "source": [
    "# return true if there is e in 'word', else false\n",
    "#def has_e(word):\n",
    "    # YOUR CODE HERE\n",
    "\n",
    "word = [\"word\", \"apple\", \"pear\", \"blackberry\", \"mango\"]\n",
    "\n",
    "def has_e(word):\n",
    "    if \"e\" in word:\n",
    "        return True\n",
    "    else:\n",
    "        return False\n",
    "for w in word:\n",
    "    print(f\"{w}: {has_e(w)}\")"
   ]
  },
  {
   "cell_type": "code",
   "execution_count": 48,
   "metadata": {},
   "outputs": [
    {
     "name": "stdout",
     "output_type": "stream",
     "text": [
      "True\n",
      "False\n"
     ]
    }
   ],
   "source": [
    "# return true if word1 contains only letters from word2, else false\n",
    "#def uses_only(word1, word2):\n",
    "    # YOUR CODE HERE\n",
    "\n",
    "def uses_only(word1, word2):\n",
    "    for letter in word1:\n",
    "        if letter not in word2:\n",
    "            return False\n",
    "    return True\n",
    "\n",
    "print(uses_only(\"ape\", \"apple\"))\n",
    "print(uses_only(\"pineapple\", \"carrot\"))"
   ]
  },
  {
   "cell_type": "code",
   "execution_count": 51,
   "metadata": {},
   "outputs": [
    {
     "name": "stdout",
     "output_type": "stream",
     "text": [
      "True\n",
      "True\n",
      "False\n"
     ]
    }
   ],
   "source": [
    "# return true if word1 uses all the letters in word2, else false\n",
    "#def uses_all(word1, word2):\n",
    "    # YOUR CODE HERE\n",
    "\n",
    "def uses_all(word1, word2):\n",
    "    for letter in word2:\n",
    "        if letter not in word1:\n",
    "            return False\n",
    "    return True\n",
    "\n",
    "# Example usage:\n",
    "print(uses_all(\"apple\", \"ape\"))  \n",
    "print(uses_all(\"apple\", \"plea\"))\n",
    "print(uses_all(\"apple\", \"alfalfa\"))"
   ]
  },
  {
   "cell_type": "code",
   "execution_count": 58,
   "metadata": {},
   "outputs": [
    {
     "name": "stdout",
     "output_type": "stream",
     "text": [
      "False\n",
      "False\n",
      "True\n"
     ]
    }
   ],
   "source": [
    "# return true or false \n",
    "# Is the word in alphabetical order? return True if yes, False if not. \n",
    "# Hint: check the methods for lists\n",
    "#def is_abecedarian(word):\n",
    "    # YOUR CODE HERE\n",
    "\n",
    "def is_abecedarian(word):\n",
    "    sorted_word = ''.join(sorted(word))\n",
    "    return word == sorted_word\n",
    "\n",
    "print(is_abecedarian(\"apple\"))\n",
    "print(is_abecedarian(\"mango\"))\n",
    "print(is_abecedarian(\"abc\"))\n"
   ]
  }
 ],
 "metadata": {
  "kernelspec": {
   "display_name": "Python 3 (ipykernel)",
   "language": "python",
   "name": "python3"
  },
  "language_info": {
   "codemirror_mode": {
    "name": "ipython",
    "version": 3
   },
   "file_extension": ".py",
   "mimetype": "text/x-python",
   "name": "python",
   "nbconvert_exporter": "python",
   "pygments_lexer": "ipython3",
   "version": "3.12.4"
  }
 },
 "nbformat": 4,
 "nbformat_minor": 4
}

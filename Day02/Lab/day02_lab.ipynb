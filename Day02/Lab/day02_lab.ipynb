{
 "cells": [
  {
   "cell_type": "markdown",
   "metadata": {},
   "source": [
    "# Lab: Namespace, Classes, and OOP"
   ]
  },
  {
   "cell_type": "markdown",
   "metadata": {},
   "source": [
    "Fill in the following methods for the class 'Clock'"
   ]
  },
  {
   "cell_type": "code",
   "execution_count": 27,
   "metadata": {},
   "outputs": [],
   "source": [
    "class Clock:\n",
    "    def __init__(self, hours, minutes):\n",
    "        self.minutes = minutes\n",
    "        self.hours = hours\n",
    "\n",
    "    def __str__(self):\n",
    "        return f\"{self.hours:02}:{self.minutes:02}\"\n",
    "\n",
    "\n",
    "    ## Add time\n",
    "    ## Don't return anything\n",
    "    def __add__(self,minutes):\n",
    "        self.minutes += minutes\n",
    "\n",
    "        additional_hours = self.minutes // 60\n",
    "        self.minutes = self.minutes % 60\n",
    "\n",
    "        self.hours += additional_hours\n",
    "\n",
    "        self.hours = self.hours % 24\n",
    "    \n",
    "    ## Subtract time\n",
    "    ## Don't return anything\n",
    "    def __sub__(self,minutes):\n",
    "        self.minutes -= minutes\n",
    "\n",
    "        additional_hours = self.minutes // 60\n",
    "        self.minutes = self.minutes % 60\n",
    "\n",
    "        self.hours -= additional_hours\n",
    "\n",
    "        self.hours = self.hours % 24\n",
    "    \n",
    "    ## Are two times equal?\n",
    "    def __eq__(self, other):\n",
    "        return self.hours == other.hours and self.minutes == other.minutes\n",
    "    \n",
    "    ## Are two times not equal?\n",
    "    def __ne__(self, other):\n",
    "        return not (self == other)\n",
    "  \n"
   ]
  },
  {
   "cell_type": "markdown",
   "metadata": {},
   "source": [
    "You should be able to run all code below if class Clock is created correctly"
   ]
  },
  {
   "cell_type": "code",
   "execution_count": 28,
   "metadata": {},
   "outputs": [
    {
     "name": "stdout",
     "output_type": "stream",
     "text": [
      "23:05\n",
      "12:45\n",
      "12:45\n"
     ]
    }
   ],
   "source": [
    "# You should be able to run these\n",
    "clock1 = Clock(23, 5)\n",
    "print(clock1) # 23:05\n",
    "clock2 = Clock(12, 45)\n",
    "print(clock2) # 12:45\n",
    "clock3 = Clock(12, 45)\n",
    "print(clock3) # 12:45"
   ]
  },
  {
   "cell_type": "code",
   "execution_count": 29,
   "metadata": {},
   "outputs": [
    {
     "name": "stdout",
     "output_type": "stream",
     "text": [
      "False\n",
      "True\n",
      "True\n"
     ]
    }
   ],
   "source": [
    "print(clock1 == clock2) ## False\n",
    "print(clock1 != clock2) ## True\n",
    "print(clock2 == clock3) ## True"
   ]
  },
  {
   "cell_type": "code",
   "execution_count": 30,
   "metadata": {},
   "outputs": [
    {
     "name": "stdout",
     "output_type": "stream",
     "text": [
      "testing addition\n",
      "00:05\n",
      "True\n"
     ]
    }
   ],
   "source": [
    "print(\"testing addition\")\n",
    "clock1 + 60\n",
    "print(clock1) # 00:05\n",
    "print(clock1 == Clock(0, 5)) # True"
   ]
  },
  {
   "cell_type": "code",
   "execution_count": 31,
   "metadata": {},
   "outputs": [
    {
     "name": "stdout",
     "output_type": "stream",
     "text": [
      "testing subtraction\n",
      "02:25\n"
     ]
    }
   ],
   "source": [
    "print(\"testing subtraction\")\n",
    "clock1 - 100\n",
    "print(clock1) # 22:25"
   ]
  }
 ],
 "metadata": {
  "kernelspec": {
   "display_name": "Python 3 (ipykernel)",
   "language": "python",
   "name": "python3"
  },
  "language_info": {
   "codemirror_mode": {
    "name": "ipython",
    "version": 3
   },
   "file_extension": ".py",
   "mimetype": "text/x-python",
   "name": "python",
   "nbconvert_exporter": "python",
   "pygments_lexer": "ipython3",
   "version": "3.12.4"
  }
 },
 "nbformat": 4,
 "nbformat_minor": 4
}

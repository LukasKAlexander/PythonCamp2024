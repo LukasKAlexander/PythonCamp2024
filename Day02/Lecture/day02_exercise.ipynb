{
 "cells": [
  {
   "cell_type": "markdown",
   "metadata": {},
   "source": [
    "#  Exercise: Namespace, Classes, and OOP"
   ]
  },
  {
   "cell_type": "markdown",
   "metadata": {},
   "source": [
    "##### Instructions"
   ]
  },
  {
   "cell_type": "markdown",
   "metadata": {},
   "source": [
    "\n",
    "* Create a class Senator() and a class Bill()\n",
    "* Complete the code below with your solutions. "
   ]
  },
  {
   "cell_type": "code",
   "execution_count": 7,
   "metadata": {},
   "outputs": [],
   "source": [
    "class Senator():\n",
    "    def __init__(self, name):\n",
    "        self.name = name\n",
    "        self.bills_voted_on = [] ## list of Bill objects\n",
    "        \n",
    "    def __str__(self): # Print method  \n",
    "        # print the name of the senator\n",
    "        # YOUR CODE HERE\n",
    "        return f\"My name is Senator {self.name}\"\n",
    "    def vote(self, bill, choice):\n",
    "        bill.votes[choice].append(self.name)\n",
    "        self.bills_voted_on.append(bill)\n",
    "        print(\"{} voted {} on {}\".format(self.name, choice, bill.title))"
   ]
  },
  {
   "cell_type": "code",
   "execution_count": 19,
   "metadata": {},
   "outputs": [],
   "source": [
    "class Bill:\n",
    "    # initializer / constructor\n",
    "    def __init__(self, title):\n",
    "        self.title = title\n",
    "        self.votes = {\"yes\": [], \"no\": [], \"abstain\": []}\n",
    "        self.passed = None\n",
    "\n",
    "    def __str__(self):  # Print method  \n",
    "        return self.title\n",
    "\n",
    "    def vote(self, senator, choice):\n",
    "        if choice.lower() in self.votes:\n",
    "            self.votes[choice.lower()].append(senator)\n",
    "        else:\n",
    "            raise ValueError(\"Invalid vote choice. Must be 'yes', 'no', or 'abstain'.\")\n",
    "\n",
    "    def result(self):\n",
    "        yes_votes = len(self.votes[\"yes\"])\n",
    "        no_votes = len(self.votes[\"no\"])\n",
    "        \n",
    "        if yes_votes > no_votes:\n",
    "            self.passed = True\n",
    "            return f\"The bill '{self.title}' has passed with {yes_votes} yes votes and {no_votes} no votes.\"\n",
    "        else:\n",
    "            self.passed = False\n",
    "            return f\"The bill '{self.title}' has failed with {yes_votes} yes votes and {no_votes} no votes.\"\n"
   ]
  },
  {
   "cell_type": "code",
   "execution_count": null,
   "metadata": {},
   "outputs": [],
   "source": []
  },
  {
   "cell_type": "markdown",
   "metadata": {},
   "source": [
    "* The following code should run if you've done the above correctly"
   ]
  },
  {
   "cell_type": "code",
   "execution_count": 33,
   "metadata": {},
   "outputs": [
    {
     "name": "stdout",
     "output_type": "stream",
     "text": [
      "My name is Senator Jack\n",
      "My name is Senator Jane\n",
      "Environmental Protection\n",
      "Jane voted yes on Environmental Protection\n",
      "Jack voted no on Environmental Protection\n",
      "{'yes': ['Jane'], 'no': ['Jack'], 'abstain': []}\n",
      "False\n",
      "False\n"
     ]
    }
   ],
   "source": [
    "jane = Senator(\"Jane\")\n",
    "jack = Senator(\"Jack\")\n",
    "print(jack)\n",
    "print(jane)\n",
    "environment = Bill(\"Environmental Protection\")\n",
    "print(environment)\n",
    "jane.vote(environment, \"yes\")\n",
    "jack.vote(environment, \"no\")\n",
    "environment.result()\n",
    "print(environment.votes)\n",
    "print(environment.passed)\n",
    "print(jack.bills_voted_on[0].passed)"
   ]
  },
  {
   "cell_type": "markdown",
   "metadata": {},
   "source": [
    "* Create another Senator with your name, and make the bill pass. "
   ]
  },
  {
   "cell_type": "markdown",
   "metadata": {},
   "source": []
  },
  {
   "cell_type": "code",
   "execution_count": 34,
   "metadata": {},
   "outputs": [
    {
     "ename": "KeyError",
     "evalue": "'Yes'",
     "output_type": "error",
     "traceback": [
      "\u001b[0;31m---------------------------------------------------------------------------\u001b[0m",
      "\u001b[0;31mKeyError\u001b[0m                                  Traceback (most recent call last)",
      "Cell \u001b[0;32mIn[34], line 3\u001b[0m\n\u001b[1;32m      1\u001b[0m lukas \u001b[38;5;241m=\u001b[39m Senator(name\u001b[38;5;241m=\u001b[39m\u001b[38;5;124m\"\u001b[39m\u001b[38;5;124mLukas Alexander\u001b[39m\u001b[38;5;124m\"\u001b[39m)\n\u001b[0;32m----> 3\u001b[0m \u001b[43mlukas\u001b[49m\u001b[38;5;241;43m.\u001b[39;49m\u001b[43mvote\u001b[49m\u001b[43m(\u001b[49m\u001b[43menvironment\u001b[49m\u001b[43m,\u001b[49m\u001b[43m \u001b[49m\u001b[38;5;124;43m\"\u001b[39;49m\u001b[38;5;124;43mYes\u001b[39;49m\u001b[38;5;124;43m\"\u001b[39;49m\u001b[43m)\u001b[49m\n\u001b[1;32m      5\u001b[0m \u001b[38;5;28mprint\u001b[39m(environment\u001b[38;5;241m.\u001b[39mresult())\n",
      "Cell \u001b[0;32mIn[7], line 11\u001b[0m, in \u001b[0;36mSenator.vote\u001b[0;34m(self, bill, choice)\u001b[0m\n\u001b[1;32m     10\u001b[0m \u001b[38;5;28;01mdef\u001b[39;00m \u001b[38;5;21mvote\u001b[39m(\u001b[38;5;28mself\u001b[39m, bill, choice):\n\u001b[0;32m---> 11\u001b[0m     \u001b[43mbill\u001b[49m\u001b[38;5;241;43m.\u001b[39;49m\u001b[43mvotes\u001b[49m\u001b[43m[\u001b[49m\u001b[43mchoice\u001b[49m\u001b[43m]\u001b[49m\u001b[38;5;241m.\u001b[39mappend(\u001b[38;5;28mself\u001b[39m\u001b[38;5;241m.\u001b[39mname)\n\u001b[1;32m     12\u001b[0m     \u001b[38;5;28mself\u001b[39m\u001b[38;5;241m.\u001b[39mbills_voted_on\u001b[38;5;241m.\u001b[39mappend(bill)\n\u001b[1;32m     13\u001b[0m     \u001b[38;5;28mprint\u001b[39m(\u001b[38;5;124m\"\u001b[39m\u001b[38;5;132;01m{}\u001b[39;00m\u001b[38;5;124m voted \u001b[39m\u001b[38;5;132;01m{}\u001b[39;00m\u001b[38;5;124m on \u001b[39m\u001b[38;5;132;01m{}\u001b[39;00m\u001b[38;5;124m\"\u001b[39m\u001b[38;5;241m.\u001b[39mformat(\u001b[38;5;28mself\u001b[39m\u001b[38;5;241m.\u001b[39mname, choice, bill\u001b[38;5;241m.\u001b[39mtitle))\n",
      "\u001b[0;31mKeyError\u001b[0m: 'Yes'"
     ]
    }
   ],
   "source": [
    "lukas = Senator(name=\"Lukas Alexander\")\n",
    "\n",
    "lukas.vote(environment, \"Yes\")\n",
    "\n",
    "print(environment.result())"
   ]
  },
  {
   "cell_type": "code",
   "execution_count": null,
   "metadata": {},
   "outputs": [],
   "source": []
  },
  {
   "cell_type": "code",
   "execution_count": null,
   "metadata": {},
   "outputs": [],
   "source": []
  },
  {
   "cell_type": "code",
   "execution_count": null,
   "metadata": {},
   "outputs": [],
   "source": []
  }
 ],
 "metadata": {
  "kernelspec": {
   "display_name": "Python 3 (ipykernel)",
   "language": "python",
   "name": "python3"
  },
  "language_info": {
   "codemirror_mode": {
    "name": "ipython",
    "version": 3
   },
   "file_extension": ".py",
   "mimetype": "text/x-python",
   "name": "python",
   "nbconvert_exporter": "python",
   "pygments_lexer": "ipython3",
   "version": "3.12.4"
  }
 },
 "nbformat": 4,
 "nbformat_minor": 4
}

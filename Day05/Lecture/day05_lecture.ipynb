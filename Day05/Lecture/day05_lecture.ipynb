{
 "cells": [
  {
   "cell_type": "markdown",
   "metadata": {
    "editable": true,
    "slideshow": {
     "slide_type": "slide"
    },
    "tags": []
   },
   "source": [
    "# APIs"
   ]
  },
  {
   "cell_type": "markdown",
   "metadata": {
    "editable": true,
    "slideshow": {
     "slide_type": "slide"
    },
    "tags": []
   },
   "source": [
    "#### What is an API?"
   ]
  },
  {
   "cell_type": "markdown",
   "metadata": {
    "editable": true,
    "slideshow": {
     "slide_type": "fragment"
    },
    "tags": []
   },
   "source": [
    "API stands for: \n",
    "- Application (a piece of software, a computer program, or a server) \n",
    "- Programming (what you’re doing with python)\n",
    "- Interface (how you’re communicating)"
   ]
  },
  {
   "cell_type": "markdown",
   "metadata": {
    "editable": true,
    "slideshow": {
     "slide_type": "fragment"
    },
    "tags": []
   },
   "source": [
    "An API is a mechanism that allows two software components to communicate, via a set of definitions and protocols."
   ]
  },
  {
   "cell_type": "markdown",
   "metadata": {
    "editable": true,
    "slideshow": {
     "slide_type": "subslide"
    },
    "tags": []
   },
   "source": [
    "An application known as the *client* is able to send *requests* for information to another application, known as the *server*, who will send back *responses* containing information. "
   ]
  },
  {
   "cell_type": "markdown",
   "metadata": {
    "editable": true,
    "slideshow": {
     "slide_type": "fragment"
    },
    "tags": []
   },
   "source": [
    "* Pre-determined parameters required in a request, and the pre-determined structure of a response vary widely across APIs.\n",
    "* APIs vary widely in many ways. Important ones to consider:\n",
    "    * Is it public?\n",
    "    * Does it require authenitacion?\n",
    "    * Does it have a cost?\n",
    "    * What types of constraints on requests?"
   ]
  },
  {
   "cell_type": "markdown",
   "metadata": {
    "editable": true,
    "slideshow": {
     "slide_type": "fragment"
    },
    "tags": []
   },
   "source": [
    "Paraphrased from: https://aws.amazon.com/what-is/api/"
   ]
  },
  {
   "cell_type": "markdown",
   "metadata": {
    "editable": true,
    "slideshow": {
     "slide_type": "subslide"
    },
    "tags": []
   },
   "source": [
    "##### A concrete example"
   ]
  },
  {
   "cell_type": "markdown",
   "metadata": {
    "editable": true,
    "slideshow": {
     "slide_type": "fragment"
    },
    "tags": []
   },
   "source": [
    "##### How Developers Use APIs"
   ]
  },
  {
   "cell_type": "markdown",
   "metadata": {
    "editable": true,
    "slideshow": {
     "slide_type": "fragment"
    },
    "tags": []
   },
   "source": [
    "###### Weather App"
   ]
  },
  {
   "cell_type": "markdown",
   "metadata": {
    "editable": true,
    "slideshow": {
     "slide_type": "fragment"
    },
    "tags": []
   },
   "source": [
    "* The app requires its users' local weather information to display back to them\n",
    "* Worldwide weather databases like the CDO allows the public (researchers and developers) to use the API\n",
    "* Devs can use this to render the weather views back to users including accurate weather info"
   ]
  },
  {
   "cell_type": "markdown",
   "metadata": {
    "editable": true,
    "slideshow": {
     "slide_type": "skip"
    },
    "tags": []
   },
   "source": [
    "###### Camera App"
   ]
  },
  {
   "cell_type": "markdown",
   "metadata": {
    "editable": true,
    "slideshow": {
     "slide_type": "skip"
    },
    "tags": []
   },
   "source": [
    "- The app’s functionality requires photography (think SnapChat)\n",
    "- iPhone devs already made camera software & efficient translations of inputs to outputs\n",
    "- Devs can use that software instead of writing it from scratch! (gains from trade)\n",
    "- Use the iPhone camera API to embed photography functions in your app\n",
    "- When Apple upgrades the camera software, your app benefits from the improvements\n",
    "- Another non-technical explanation: https://www.howtogeek.com/343877/what-is-an-api/"
   ]
  },
  {
   "cell_type": "markdown",
   "metadata": {
    "editable": true,
    "slideshow": {
     "slide_type": "subslide"
    },
    "tags": []
   },
   "source": [
    "##### How Social Scientists Use APIs"
   ]
  },
  {
   "cell_type": "markdown",
   "metadata": {
    "editable": true,
    "slideshow": {
     "slide_type": "fragment"
    },
    "tags": []
   },
   "source": [
    "###### Weather & Public Opinion"
   ]
  },
  {
   "cell_type": "markdown",
   "metadata": {
    "editable": true,
    "slideshow": {
     "slide_type": "fragment"
    },
    "tags": []
   },
   "source": [
    "* Egan, Patrick J., and Megan Mullin. “Turning Personal Experience into Political Attitudes: The Effect of Local Weather on Americans’ Perceptions about Global Warming.” The Journal of Politics 74, no. 3 (2012): 796–809. https://doi.org/10.1017/s0022381612000448.\n",
    "    * Connected local weather data from CDO to Pew Research survey responses on how Americans perceive Global Warming"
   ]
  },
  {
   "cell_type": "markdown",
   "metadata": {
    "editable": true,
    "slideshow": {
     "slide_type": "subslide"
    },
    "tags": []
   },
   "source": [
    "As Tools: \n",
    "1. Google Cloud Speech API\n",
    "2. Microsoft Azure Emotion API"
   ]
  },
  {
   "cell_type": "markdown",
   "metadata": {
    "editable": true,
    "slideshow": {
     "slide_type": "fragment"
    },
    "tags": []
   },
   "source": [
    "As Data: \n",
    "1. Census\n",
    "2. GoogleMaps\n",
    "3. Twitter/Meta/Reddit/etc. \n",
    "4. FEC\n",
    "5. Legislative data (e.g., UK and Brazil Parliaments)"
   ]
  },
  {
   "cell_type": "markdown",
   "metadata": {
    "editable": true,
    "slideshow": {
     "slide_type": "subslide"
    },
    "tags": []
   },
   "source": [
    "##### All APIs are different, and each has its own learning curve. "
   ]
  },
  {
   "cell_type": "markdown",
   "metadata": {
    "editable": true,
    "slideshow": {
     "slide_type": "fragment"
    },
    "tags": []
   },
   "source": [
    "For this course, we are only using python wrappers for APIs, but R also offers API wrappers. If you prefer to use R, look for these prior to writing your code."
   ]
  },
  {
   "cell_type": "markdown",
   "metadata": {
    "editable": true,
    "slideshow": {
     "slide_type": "slide"
    },
    "tags": []
   },
   "source": [
    "### 1. Spotify API"
   ]
  },
  {
   "cell_type": "markdown",
   "metadata": {
    "editable": true,
    "slideshow": {
     "slide_type": "fragment"
    },
    "tags": []
   },
   "source": [
    "`Spotipy` is a lightweight python library for the Spotify Web API. \n",
    "\n",
    "With `Spotipy`, you get full access to all of the music data provided by the Spotify platform. \n",
    "\n",
    "\n",
    "Here is the documentation: https://spotipy.readthedocs.io/en/2.22.1/"
   ]
  },
  {
   "cell_type": "markdown",
   "metadata": {
    "editable": true,
    "slideshow": {
     "slide_type": "subslide"
    },
    "tags": []
   },
   "source": [
    "1. Installation"
   ]
  },
  {
   "cell_type": "markdown",
   "metadata": {
    "editable": true,
    "slideshow": {
     "slide_type": "fragment"
    },
    "tags": []
   },
   "source": [
    "* Run the following in a Jupyter cell"
   ]
  },
  {
   "cell_type": "code",
   "execution_count": 9,
   "metadata": {
    "editable": true,
    "slideshow": {
     "slide_type": "fragment"
    },
    "tags": []
   },
   "outputs": [
    {
     "name": "stdout",
     "output_type": "stream",
     "text": [
      "Requirement already satisfied: spotipy in /Library/Frameworks/Python.framework/Versions/3.12/lib/python3.12/site-packages (2.24.0)\n",
      "Requirement already satisfied: redis>=3.5.3 in /Library/Frameworks/Python.framework/Versions/3.12/lib/python3.12/site-packages (from spotipy) (5.0.8)\n",
      "Requirement already satisfied: requests>=2.25.0 in /Library/Frameworks/Python.framework/Versions/3.12/lib/python3.12/site-packages (from spotipy) (2.32.3)\n",
      "Requirement already satisfied: urllib3>=1.26.0 in /Library/Frameworks/Python.framework/Versions/3.12/lib/python3.12/site-packages (from spotipy) (2.2.2)\n",
      "Requirement already satisfied: charset-normalizer<4,>=2 in /Library/Frameworks/Python.framework/Versions/3.12/lib/python3.12/site-packages (from requests>=2.25.0->spotipy) (3.3.2)\n",
      "Requirement already satisfied: idna<4,>=2.5 in /Library/Frameworks/Python.framework/Versions/3.12/lib/python3.12/site-packages (from requests>=2.25.0->spotipy) (3.7)\n",
      "Requirement already satisfied: certifi>=2017.4.17 in /Library/Frameworks/Python.framework/Versions/3.12/lib/python3.12/site-packages (from requests>=2.25.0->spotipy) (2024.7.4)\n",
      "Collecting spotipy\n",
      "  Using cached spotipy-2.24.0-py3-none-any.whl.metadata (4.9 kB)\n",
      "Collecting redis>=3.5.3 (from spotipy)\n",
      "  Using cached redis-5.0.8-py3-none-any.whl.metadata (9.2 kB)\n",
      "Requirement already satisfied: requests>=2.25.0 in /usr/local/Cellar/jupyterlab/4.2.3/libexec/lib/python3.12/site-packages (from spotipy) (2.32.3)\n",
      "Requirement already satisfied: urllib3>=1.26.0 in /usr/local/Cellar/jupyterlab/4.2.3/libexec/lib/python3.12/site-packages (from spotipy) (2.2.2)\n",
      "Requirement already satisfied: charset-normalizer<4,>=2 in /usr/local/Cellar/jupyterlab/4.2.3/libexec/lib/python3.12/site-packages (from requests>=2.25.0->spotipy) (3.3.2)\n",
      "Requirement already satisfied: idna<4,>=2.5 in /usr/local/Cellar/jupyterlab/4.2.3/libexec/lib/python3.12/site-packages (from requests>=2.25.0->spotipy) (3.7)\n",
      "Requirement already satisfied: certifi>=2017.4.17 in /usr/local/opt/certifi/lib/python3.12/site-packages (from requests>=2.25.0->spotipy) (2024.7.4)\n",
      "Using cached spotipy-2.24.0-py3-none-any.whl (30 kB)\n",
      "Using cached redis-5.0.8-py3-none-any.whl (255 kB)\n",
      "Installing collected packages: redis, spotipy\n",
      "Successfully installed redis-5.0.8 spotipy-2.24.0\n",
      "\n",
      "\u001b[1m[\u001b[0m\u001b[34;49mnotice\u001b[0m\u001b[1;39;49m]\u001b[0m\u001b[39;49m A new release of pip is available: \u001b[0m\u001b[31;49m24.0\u001b[0m\u001b[39;49m -> \u001b[0m\u001b[32;49m24.2\u001b[0m\n",
      "\u001b[1m[\u001b[0m\u001b[34;49mnotice\u001b[0m\u001b[1;39;49m]\u001b[0m\u001b[39;49m To update, run: \u001b[0m\u001b[32;49m/usr/local/Cellar/jupyterlab/4.2.3/libexec/bin/python -m pip install --upgrade pip\u001b[0m\n",
      "Note: you may need to restart the kernel to use updated packages.\n"
     ]
    }
   ],
   "source": [
    "!pip3 install spotipy --upgrade\n",
    "%pip install spotipy"
   ]
  },
  {
   "cell_type": "markdown",
   "metadata": {
    "editable": true,
    "slideshow": {
     "slide_type": "fragment"
    },
    "tags": []
   },
   "source": [
    "2. Get your credentials\n",
    "    - Go to: https://developer.spotify.com/dashboard\n",
    "    - Log in (or create a Spotify account if you don't already have one)\n",
    "    - Create an app (You don't need the Redirect URL, but just put down some random website)\n",
    "    - Request an access token: get your client ID and client secret"
   ]
  },
  {
   "cell_type": "markdown",
   "metadata": {
    "editable": true,
    "slideshow": {
     "slide_type": "subslide"
    },
    "tags": []
   },
   "source": [
    "* It is best practice to store these in a separate file, but for demonstration we will just use this"
   ]
  },
  {
   "cell_type": "code",
   "execution_count": 10,
   "metadata": {
    "editable": true,
    "slideshow": {
     "slide_type": "fragment"
    },
    "tags": []
   },
   "outputs": [],
   "source": [
    "client_id = 'c5c4276144fb44ac8b8e90268cff261f'\n",
    "client_secret = '45b85a5b8aba474e8d68c4f0e59a35a5'"
   ]
  },
  {
   "cell_type": "markdown",
   "metadata": {
    "editable": true,
    "slideshow": {
     "slide_type": "fragment"
    },
    "tags": []
   },
   "source": [
    "3. Import libraries"
   ]
  },
  {
   "cell_type": "code",
   "execution_count": 11,
   "metadata": {
    "editable": true,
    "slideshow": {
     "slide_type": "fragment"
    },
    "tags": []
   },
   "outputs": [],
   "source": [
    "import spotipy\n",
    "from spotipy.oauth2 import SpotifyClientCredentials"
   ]
  },
  {
   "cell_type": "markdown",
   "metadata": {
    "editable": true,
    "slideshow": {
     "slide_type": "subslide"
    },
    "tags": []
   },
   "source": [
    "4. Use your credentials"
   ]
  },
  {
   "cell_type": "code",
   "execution_count": 12,
   "metadata": {
    "editable": true,
    "slideshow": {
     "slide_type": "fragment"
    },
    "tags": []
   },
   "outputs": [],
   "source": [
    "spotify = spotipy.Spotify(client_credentials_manager=\n",
    "                          SpotifyClientCredentials(client_id=client_id,\n",
    "                                                   client_secret=client_secret))"
   ]
  },
  {
   "cell_type": "markdown",
   "metadata": {
    "editable": true,
    "slideshow": {
     "slide_type": "subslide"
    },
    "tags": []
   },
   "source": [
    "##### An example usecase: Let's search for Taylor Swift and find all her albums"
   ]
  },
  {
   "cell_type": "markdown",
   "metadata": {
    "editable": true,
    "slideshow": {
     "slide_type": "fragment"
    },
    "tags": []
   },
   "source": [
    "1. Find her identifier"
   ]
  },
  {
   "cell_type": "markdown",
   "metadata": {
    "editable": true,
    "slideshow": {
     "slide_type": ""
    },
    "tags": []
   },
   "source": [
    "* Copy from the URL associated with artist's page on Spotify:\n",
    "    * https://open.spotify.com/artist/06HL4z0CvFAxyc27GXpf02"
   ]
  },
  {
   "cell_type": "code",
   "execution_count": 13,
   "metadata": {
    "editable": true,
    "slideshow": {
     "slide_type": ""
    },
    "tags": []
   },
   "outputs": [],
   "source": [
    "HL_uri = '2Jsv2nBcTfKpM9dbZcBbk6'"
   ]
  },
  {
   "cell_type": "markdown",
   "metadata": {
    "editable": true,
    "slideshow": {
     "slide_type": "fragment"
    },
    "tags": []
   },
   "source": [
    "2. Use the method `.artist_albums()` to find her albums"
   ]
  },
  {
   "cell_type": "code",
   "execution_count": 14,
   "metadata": {
    "editable": true,
    "slideshow": {
     "slide_type": "fragment"
    },
    "tags": []
   },
   "outputs": [],
   "source": [
    "results = spotify.artist_albums(HL_uri, album_type='album')"
   ]
  },
  {
   "cell_type": "markdown",
   "metadata": {
    "editable": true,
    "slideshow": {
     "slide_type": "subslide"
    },
    "tags": []
   },
   "source": [
    "Let's check the output we got from `results`"
   ]
  },
  {
   "cell_type": "code",
   "execution_count": 17,
   "metadata": {
    "editable": true,
    "slideshow": {
     "slide_type": "fragment"
    },
    "tags": []
   },
   "outputs": [
    {
     "name": "stdout",
     "output_type": "stream",
     "text": [
      "{'href': 'https://api.spotify.com/v1/artists/2Jsv2nBcTfKpM9dbZcBbk6/albums?include_groups=album&offset=0&limit=20', 'items': [{'album_group': 'album', 'album_type': 'album', 'artists': [{'external_urls': {'spotify': 'https://open.spotify.com/artist/2Jsv2nBcTfKpM9dbZcBbk6'}, 'href': 'https://api.spotify.com/v1/artists/2Jsv2nBcTfKpM9dbZcBbk6', 'id': '2Jsv2nBcTfKpM9dbZcBbk6', 'name': 'HAPPY LANDING', 'type': 'artist', 'uri': 'spotify:artist:2Jsv2nBcTfKpM9dbZcBbk6'}], 'available_markets': ['AR', 'AU', 'AT', 'BE', 'BO', 'BR', 'BG', 'CA', 'CL', 'CO', 'CR', 'CY', 'CZ', 'DK', 'DO', 'DE', 'EC', 'EE', 'SV', 'FI', 'FR', 'GR', 'GT', 'HN', 'HK', 'HU', 'IS', 'IE', 'IT', 'LV', 'LT', 'LU', 'MY', 'MT', 'MX', 'NL', 'NZ', 'NI', 'NO', 'PA', 'PY', 'PE', 'PH', 'PL', 'PT', 'SG', 'SK', 'ES', 'SE', 'CH', 'TW', 'TR', 'UY', 'US', 'GB', 'AD', 'LI', 'MC', 'ID', 'JP', 'TH', 'VN', 'RO', 'IL', 'ZA', 'SA', 'AE', 'BH', 'QA', 'OM', 'KW', 'EG', 'MA', 'DZ', 'TN', 'LB', 'JO', 'PS', 'IN', 'BY', 'KZ', 'MD', 'UA', 'AL', 'BA', 'HR', 'ME', 'MK', 'RS', 'SI', 'KR', 'BD', 'PK', 'LK', 'GH', 'KE', 'NG', 'TZ', 'UG', 'AG', 'AM', 'BS', 'BB', 'BZ', 'BT', 'BW', 'BF', 'CV', 'CW', 'DM', 'FJ', 'GM', 'GE', 'GD', 'GW', 'GY', 'HT', 'JM', 'KI', 'LS', 'LR', 'MW', 'MV', 'ML', 'MH', 'FM', 'NA', 'NR', 'NE', 'PW', 'PG', 'PR', 'WS', 'SM', 'ST', 'SN', 'SC', 'SL', 'SB', 'KN', 'LC', 'VC', 'SR', 'TL', 'TO', 'TT', 'TV', 'VU', 'AZ', 'BN', 'BI', 'KH', 'CM', 'TD', 'KM', 'GQ', 'SZ', 'GA', 'GN', 'KG', 'LA', 'MO', 'MR', 'MN', 'NP', 'RW', 'TG', 'UZ', 'ZW', 'BJ', 'MG', 'MU', 'MZ', 'AO', 'CI', 'DJ', 'ZM', 'CD', 'CG', 'IQ', 'LY', 'TJ', 'VE', 'ET', 'XK'], 'external_urls': {'spotify': 'https://open.spotify.com/album/186Tj7T6pJb69qNc14rt4F'}, 'href': 'https://api.spotify.com/v1/albums/186Tj7T6pJb69qNc14rt4F', 'id': '186Tj7T6pJb69qNc14rt4F', 'images': [{'height': 640, 'url': 'https://i.scdn.co/image/ab67616d0000b273604ca096c9f6e39cf668ca49', 'width': 640}, {'height': 300, 'url': 'https://i.scdn.co/image/ab67616d00001e02604ca096c9f6e39cf668ca49', 'width': 300}, {'height': 64, 'url': 'https://i.scdn.co/image/ab67616d00004851604ca096c9f6e39cf668ca49', 'width': 64}], 'name': 'Golden', 'release_date': '2024-07-12', 'release_date_precision': 'day', 'total_tracks': 10, 'type': 'album', 'uri': 'spotify:album:186Tj7T6pJb69qNc14rt4F'}], 'limit': 20, 'next': None, 'offset': 0, 'previous': None, 'total': 1}\n"
     ]
    }
   ],
   "source": [
    "print(results)"
   ]
  },
  {
   "cell_type": "markdown",
   "metadata": {
    "editable": true,
    "slideshow": {
     "slide_type": "fragment"
    },
    "tags": []
   },
   "source": [
    "What is the data type?"
   ]
  },
  {
   "cell_type": "code",
   "execution_count": 18,
   "metadata": {
    "editable": true,
    "slideshow": {
     "slide_type": "fragment"
    },
    "tags": []
   },
   "outputs": [
    {
     "data": {
      "text/plain": [
       "dict"
      ]
     },
     "execution_count": 18,
     "metadata": {},
     "output_type": "execute_result"
    }
   ],
   "source": [
    "type(results)"
   ]
  },
  {
   "cell_type": "markdown",
   "metadata": {
    "editable": true,
    "slideshow": {
     "slide_type": "fragment"
    },
    "tags": []
   },
   "source": [
    "What are the keys of this dictionary? "
   ]
  },
  {
   "cell_type": "code",
   "execution_count": 26,
   "metadata": {
    "editable": true,
    "slideshow": {
     "slide_type": "fragment"
    },
    "tags": []
   },
   "outputs": [
    {
     "data": {
      "text/plain": [
       "dict_keys(['href', 'items', 'limit', 'next', 'offset', 'previous', 'total'])"
      ]
     },
     "execution_count": 26,
     "metadata": {},
     "output_type": "execute_result"
    }
   ],
   "source": [
    "results.keys()"
   ]
  },
  {
   "cell_type": "markdown",
   "metadata": {
    "editable": true,
    "slideshow": {
     "slide_type": "subslide"
    },
    "tags": []
   },
   "source": [
    "Which of these stores the name of the album?"
   ]
  },
  {
   "cell_type": "code",
   "execution_count": 23,
   "metadata": {
    "editable": true,
    "slideshow": {
     "slide_type": "fragment"
    },
    "tags": []
   },
   "outputs": [],
   "source": [
    "albums = results['items']\n",
    "# albums"
   ]
  },
  {
   "cell_type": "markdown",
   "metadata": {
    "editable": true,
    "slideshow": {
     "slide_type": "fragment"
    },
    "tags": []
   },
   "source": [
    "What is the data type?"
   ]
  },
  {
   "cell_type": "code",
   "execution_count": 24,
   "metadata": {
    "editable": true,
    "slideshow": {
     "slide_type": "fragment"
    },
    "tags": []
   },
   "outputs": [
    {
     "data": {
      "text/plain": [
       "list"
      ]
     },
     "execution_count": 24,
     "metadata": {},
     "output_type": "execute_result"
    }
   ],
   "source": [
    "type(albums)"
   ]
  },
  {
   "cell_type": "markdown",
   "metadata": {
    "editable": true,
    "slideshow": {
     "slide_type": "subslide"
    },
    "tags": []
   },
   "source": [
    "Let's look at the first element"
   ]
  },
  {
   "cell_type": "code",
   "execution_count": 25,
   "metadata": {
    "editable": true,
    "slideshow": {
     "slide_type": "fragment"
    },
    "tags": []
   },
   "outputs": [
    {
     "data": {
      "text/plain": [
       "{'album_group': 'album',\n",
       " 'album_type': 'album',\n",
       " 'artists': [{'external_urls': {'spotify': 'https://open.spotify.com/artist/2Jsv2nBcTfKpM9dbZcBbk6'},\n",
       "   'href': 'https://api.spotify.com/v1/artists/2Jsv2nBcTfKpM9dbZcBbk6',\n",
       "   'id': '2Jsv2nBcTfKpM9dbZcBbk6',\n",
       "   'name': 'HAPPY LANDING',\n",
       "   'type': 'artist',\n",
       "   'uri': 'spotify:artist:2Jsv2nBcTfKpM9dbZcBbk6'}],\n",
       " 'available_markets': ['AR',\n",
       "  'AU',\n",
       "  'AT',\n",
       "  'BE',\n",
       "  'BO',\n",
       "  'BR',\n",
       "  'BG',\n",
       "  'CA',\n",
       "  'CL',\n",
       "  'CO',\n",
       "  'CR',\n",
       "  'CY',\n",
       "  'CZ',\n",
       "  'DK',\n",
       "  'DO',\n",
       "  'DE',\n",
       "  'EC',\n",
       "  'EE',\n",
       "  'SV',\n",
       "  'FI',\n",
       "  'FR',\n",
       "  'GR',\n",
       "  'GT',\n",
       "  'HN',\n",
       "  'HK',\n",
       "  'HU',\n",
       "  'IS',\n",
       "  'IE',\n",
       "  'IT',\n",
       "  'LV',\n",
       "  'LT',\n",
       "  'LU',\n",
       "  'MY',\n",
       "  'MT',\n",
       "  'MX',\n",
       "  'NL',\n",
       "  'NZ',\n",
       "  'NI',\n",
       "  'NO',\n",
       "  'PA',\n",
       "  'PY',\n",
       "  'PE',\n",
       "  'PH',\n",
       "  'PL',\n",
       "  'PT',\n",
       "  'SG',\n",
       "  'SK',\n",
       "  'ES',\n",
       "  'SE',\n",
       "  'CH',\n",
       "  'TW',\n",
       "  'TR',\n",
       "  'UY',\n",
       "  'US',\n",
       "  'GB',\n",
       "  'AD',\n",
       "  'LI',\n",
       "  'MC',\n",
       "  'ID',\n",
       "  'JP',\n",
       "  'TH',\n",
       "  'VN',\n",
       "  'RO',\n",
       "  'IL',\n",
       "  'ZA',\n",
       "  'SA',\n",
       "  'AE',\n",
       "  'BH',\n",
       "  'QA',\n",
       "  'OM',\n",
       "  'KW',\n",
       "  'EG',\n",
       "  'MA',\n",
       "  'DZ',\n",
       "  'TN',\n",
       "  'LB',\n",
       "  'JO',\n",
       "  'PS',\n",
       "  'IN',\n",
       "  'BY',\n",
       "  'KZ',\n",
       "  'MD',\n",
       "  'UA',\n",
       "  'AL',\n",
       "  'BA',\n",
       "  'HR',\n",
       "  'ME',\n",
       "  'MK',\n",
       "  'RS',\n",
       "  'SI',\n",
       "  'KR',\n",
       "  'BD',\n",
       "  'PK',\n",
       "  'LK',\n",
       "  'GH',\n",
       "  'KE',\n",
       "  'NG',\n",
       "  'TZ',\n",
       "  'UG',\n",
       "  'AG',\n",
       "  'AM',\n",
       "  'BS',\n",
       "  'BB',\n",
       "  'BZ',\n",
       "  'BT',\n",
       "  'BW',\n",
       "  'BF',\n",
       "  'CV',\n",
       "  'CW',\n",
       "  'DM',\n",
       "  'FJ',\n",
       "  'GM',\n",
       "  'GE',\n",
       "  'GD',\n",
       "  'GW',\n",
       "  'GY',\n",
       "  'HT',\n",
       "  'JM',\n",
       "  'KI',\n",
       "  'LS',\n",
       "  'LR',\n",
       "  'MW',\n",
       "  'MV',\n",
       "  'ML',\n",
       "  'MH',\n",
       "  'FM',\n",
       "  'NA',\n",
       "  'NR',\n",
       "  'NE',\n",
       "  'PW',\n",
       "  'PG',\n",
       "  'PR',\n",
       "  'WS',\n",
       "  'SM',\n",
       "  'ST',\n",
       "  'SN',\n",
       "  'SC',\n",
       "  'SL',\n",
       "  'SB',\n",
       "  'KN',\n",
       "  'LC',\n",
       "  'VC',\n",
       "  'SR',\n",
       "  'TL',\n",
       "  'TO',\n",
       "  'TT',\n",
       "  'TV',\n",
       "  'VU',\n",
       "  'AZ',\n",
       "  'BN',\n",
       "  'BI',\n",
       "  'KH',\n",
       "  'CM',\n",
       "  'TD',\n",
       "  'KM',\n",
       "  'GQ',\n",
       "  'SZ',\n",
       "  'GA',\n",
       "  'GN',\n",
       "  'KG',\n",
       "  'LA',\n",
       "  'MO',\n",
       "  'MR',\n",
       "  'MN',\n",
       "  'NP',\n",
       "  'RW',\n",
       "  'TG',\n",
       "  'UZ',\n",
       "  'ZW',\n",
       "  'BJ',\n",
       "  'MG',\n",
       "  'MU',\n",
       "  'MZ',\n",
       "  'AO',\n",
       "  'CI',\n",
       "  'DJ',\n",
       "  'ZM',\n",
       "  'CD',\n",
       "  'CG',\n",
       "  'IQ',\n",
       "  'LY',\n",
       "  'TJ',\n",
       "  'VE',\n",
       "  'ET',\n",
       "  'XK'],\n",
       " 'external_urls': {'spotify': 'https://open.spotify.com/album/186Tj7T6pJb69qNc14rt4F'},\n",
       " 'href': 'https://api.spotify.com/v1/albums/186Tj7T6pJb69qNc14rt4F',\n",
       " 'id': '186Tj7T6pJb69qNc14rt4F',\n",
       " 'images': [{'height': 640,\n",
       "   'url': 'https://i.scdn.co/image/ab67616d0000b273604ca096c9f6e39cf668ca49',\n",
       "   'width': 640},\n",
       "  {'height': 300,\n",
       "   'url': 'https://i.scdn.co/image/ab67616d00001e02604ca096c9f6e39cf668ca49',\n",
       "   'width': 300},\n",
       "  {'height': 64,\n",
       "   'url': 'https://i.scdn.co/image/ab67616d00004851604ca096c9f6e39cf668ca49',\n",
       "   'width': 64}],\n",
       " 'name': 'Golden',\n",
       " 'release_date': '2024-07-12',\n",
       " 'release_date_precision': 'day',\n",
       " 'total_tracks': 10,\n",
       " 'type': 'album',\n",
       " 'uri': 'spotify:album:186Tj7T6pJb69qNc14rt4F'}"
      ]
     },
     "execution_count": 25,
     "metadata": {},
     "output_type": "execute_result"
    }
   ],
   "source": [
    " albums[0]"
   ]
  },
  {
   "cell_type": "markdown",
   "metadata": {
    "editable": true,
    "slideshow": {
     "slide_type": "fragment"
    },
    "tags": []
   },
   "source": [
    "* Each list element is another dictionary"
   ]
  },
  {
   "cell_type": "code",
   "execution_count": 27,
   "metadata": {
    "editable": true,
    "slideshow": {
     "slide_type": "fragment"
    },
    "tags": []
   },
   "outputs": [
    {
     "data": {
      "text/plain": [
       "'Golden'"
      ]
     },
     "execution_count": 27,
     "metadata": {},
     "output_type": "execute_result"
    }
   ],
   "source": [
    "albums[0]['name']"
   ]
  },
  {
   "cell_type": "code",
   "execution_count": 28,
   "metadata": {
    "editable": true,
    "slideshow": {
     "slide_type": "fragment"
    },
    "tags": []
   },
   "outputs": [
    {
     "ename": "IndexError",
     "evalue": "list index out of range",
     "output_type": "error",
     "traceback": [
      "\u001b[0;31m---------------------------------------------------------------------------\u001b[0m",
      "\u001b[0;31mIndexError\u001b[0m                                Traceback (most recent call last)",
      "Cell \u001b[0;32mIn[28], line 1\u001b[0m\n\u001b[0;32m----> 1\u001b[0m \u001b[43malbums\u001b[49m\u001b[43m[\u001b[49m\u001b[38;5;241;43m5\u001b[39;49m\u001b[43m]\u001b[49m[\u001b[38;5;124m'\u001b[39m\u001b[38;5;124mname\u001b[39m\u001b[38;5;124m'\u001b[39m]\n",
      "\u001b[0;31mIndexError\u001b[0m: list index out of range"
     ]
    }
   ],
   "source": [
    "albums[5]['name']"
   ]
  },
  {
   "cell_type": "markdown",
   "metadata": {
    "editable": true,
    "slideshow": {
     "slide_type": "subslide"
    },
    "tags": []
   },
   "source": [
    "Now, let's make sure it gets all of the albums by iterating through all pages."
   ]
  },
  {
   "cell_type": "code",
   "execution_count": 31,
   "metadata": {
    "editable": true,
    "slideshow": {
     "slide_type": "fragment"
    },
    "tags": []
   },
   "outputs": [],
   "source": [
    "while results['next']:\n",
    "    results = spotify.next(results)\n",
    "    albums.extend(results['items'])"
   ]
  },
  {
   "cell_type": "markdown",
   "metadata": {
    "editable": true,
    "slideshow": {
     "slide_type": "subslide"
    },
    "tags": []
   },
   "source": [
    "Let's check the results!"
   ]
  },
  {
   "cell_type": "code",
   "execution_count": 34,
   "metadata": {
    "editable": true,
    "slideshow": {
     "slide_type": "fragment"
    },
    "tags": []
   },
   "outputs": [
    {
     "name": "stdout",
     "output_type": "stream",
     "text": [
      "Golden\n",
      "2024-07-12\n"
     ]
    }
   ],
   "source": [
    "for album in albums:\n",
    "    print(album['name'])\n",
    "    print(album['release_date'])"
   ]
  },
  {
   "cell_type": "markdown",
   "metadata": {
    "editable": true,
    "slideshow": {
     "slide_type": "slide"
    },
    "tags": []
   },
   "source": [
    "Now it's your turn! Play around with the Spotify API! "
   ]
  },
  {
   "cell_type": "markdown",
   "metadata": {
    "editable": true,
    "slideshow": {
     "slide_type": "fragment"
    },
    "tags": []
   },
   "source": [
    "#### 1.1 Short in-class activity"
   ]
  },
  {
   "cell_type": "markdown",
   "metadata": {
    "editable": true,
    "slideshow": {
     "slide_type": "fragment"
    },
    "tags": []
   },
   "source": [
    "# Get the name and release data of all the albums for your favorite artist on Spotify! \n",
    "# What is the oldest album of this artist? \n",
    "\n",
    "\n",
    "BJ_uri = '58lV9VcRSjABbAbfWS6skp'\n",
    "\n",
    "results = spotify.artist_albums(BJ_uri, album_type='album')\n",
    "\n",
    "albums = results['items']\n",
    "type(albums)\n",
    "\n",
    "while results['next']:\n",
    "    results = spotify.next(results)\n",
    "    albums.extend(results['items'])\n",
    "\n",
    "for album in albums:\n",
    "    print(album['name'])\n",
    "    print(album['release_date'])\n",
    "***"
   ]
  },
  {
   "cell_type": "code",
   "execution_count": 35,
   "metadata": {},
   "outputs": [
    {
     "name": "stdout",
     "output_type": "stream",
     "text": [
      "Forever\n",
      "2024-06-07\n",
      "Bon Jovi (Deluxe Edition)\n",
      "2024-01-24\n",
      "2020 (Deluxe)\n",
      "2020-10-05\n",
      "2020\n",
      "2020-10-02\n",
      "This House Is Not For Sale (Deluxe)\n",
      "2018-02-23\n",
      "This House Is Not For Sale\n",
      "2018-02-23\n",
      "This House Is Not For Sale (Live From The London Palladium)\n",
      "2016-12-16\n",
      "Burning Bridges\n",
      "2015-08-21\n",
      "What About Now\n",
      "2013-03-08\n",
      "What About Now (Deluxe Version)\n",
      "2013-01-01\n",
      "Inside Out\n",
      "2012-01-01\n",
      "The Circle\n",
      "2009-01-01\n",
      "Lost Highway\n",
      "2007-01-01\n",
      "Have A Nice Day\n",
      "2005-01-01\n",
      "Bounce\n",
      "2002-01-01\n",
      "One Wild Night Live 1985-2001\n",
      "2001-05-22\n",
      "Crush\n",
      "2000-01-01\n",
      "These Days\n",
      "1995-06-27\n",
      "Keep The Faith\n",
      "1992-11-03\n",
      "New Jersey - Deluxe Edition\n",
      "1988-09-13\n",
      "New Jersey\n",
      "1988-09-13\n",
      "Slippery When Wet\n",
      "1986-08-16\n",
      "7800 Fahrenheit\n",
      "1985-03-27\n",
      "Bon Jovi\n",
      "1984-01-23\n"
     ]
    }
   ],
   "source": [
    "BJ_uri = '58lV9VcRSjABbAbfWS6skp'\n",
    "\n",
    "results = spotify.artist_albums(BJ_uri, album_type='album')\n",
    "\n",
    "albums = results['items']\n",
    "type(albums)\n",
    "\n",
    "while results['next']:\n",
    "    results = spotify.next(results)\n",
    "    albums.extend(results['items'])\n",
    "\n",
    "for album in albums:\n",
    "    print(album['name'])\n",
    "    print(album['release_date'])"
   ]
  },
  {
   "cell_type": "markdown",
   "metadata": {
    "editable": true,
    "slideshow": {
     "slide_type": "slide"
    },
    "tags": []
   },
   "source": [
    "### 2. Google Maps API"
   ]
  },
  {
   "cell_type": "markdown",
   "metadata": {
    "editable": true,
    "slideshow": {
     "slide_type": "fragment"
    },
    "tags": []
   },
   "source": [
    "1. This uses the Google Developer Console. \n",
    "    - Navigate to: https://console.developers.google.com/apis/credentials?project=_\n",
    "    - Log in to your Google account\n",
    "    - Create a new project\n",
    "    - Create your credentials using the API key option (under +CREATE CREDENTIALS)\n",
    "    - Get your API Key\n",
    "    - Modify the api key in `start_google.py`\n",
    "    - Save file changes\n",
    "    - Go to library (in your developer console API and Services) and enable `Geocoding API` and `Distance Matrix API`\n",
    "    "
   ]
  },
  {
   "cell_type": "markdown",
   "metadata": {
    "editable": true,
    "slideshow": {
     "slide_type": "subslide"
    },
    "tags": []
   },
   "source": [
    "2. Installation"
   ]
  },
  {
   "cell_type": "markdown",
   "metadata": {
    "editable": true,
    "slideshow": {
     "slide_type": "fragment"
    },
    "tags": []
   },
   "source": [
    "Run the following into a Jupyter cell"
   ]
  },
  {
   "cell_type": "code",
   "execution_count": 38,
   "metadata": {
    "editable": true,
    "slideshow": {
     "slide_type": "fragment"
    },
    "tags": []
   },
   "outputs": [
    {
     "name": "stdout",
     "output_type": "stream",
     "text": [
      "Requirement already satisfied: googlemaps in /Library/Frameworks/Python.framework/Versions/3.12/lib/python3.12/site-packages (4.10.0)\n",
      "Requirement already satisfied: requests<3.0,>=2.20.0 in /Library/Frameworks/Python.framework/Versions/3.12/lib/python3.12/site-packages (from googlemaps) (2.32.3)\n",
      "Requirement already satisfied: charset-normalizer<4,>=2 in /Library/Frameworks/Python.framework/Versions/3.12/lib/python3.12/site-packages (from requests<3.0,>=2.20.0->googlemaps) (3.3.2)\n",
      "Requirement already satisfied: idna<4,>=2.5 in /Library/Frameworks/Python.framework/Versions/3.12/lib/python3.12/site-packages (from requests<3.0,>=2.20.0->googlemaps) (3.7)\n",
      "Requirement already satisfied: urllib3<3,>=1.21.1 in /Library/Frameworks/Python.framework/Versions/3.12/lib/python3.12/site-packages (from requests<3.0,>=2.20.0->googlemaps) (2.2.2)\n",
      "Requirement already satisfied: certifi>=2017.4.17 in /Library/Frameworks/Python.framework/Versions/3.12/lib/python3.12/site-packages (from requests<3.0,>=2.20.0->googlemaps) (2024.7.4)\n",
      "Collecting googlemaps\n",
      "  Using cached googlemaps-4.10.0-py3-none-any.whl\n",
      "Requirement already satisfied: requests<3.0,>=2.20.0 in /usr/local/Cellar/jupyterlab/4.2.3/libexec/lib/python3.12/site-packages (from googlemaps) (2.32.3)\n",
      "Requirement already satisfied: charset-normalizer<4,>=2 in /usr/local/Cellar/jupyterlab/4.2.3/libexec/lib/python3.12/site-packages (from requests<3.0,>=2.20.0->googlemaps) (3.3.2)\n",
      "Requirement already satisfied: idna<4,>=2.5 in /usr/local/Cellar/jupyterlab/4.2.3/libexec/lib/python3.12/site-packages (from requests<3.0,>=2.20.0->googlemaps) (3.7)\n",
      "Requirement already satisfied: urllib3<3,>=1.21.1 in /usr/local/Cellar/jupyterlab/4.2.3/libexec/lib/python3.12/site-packages (from requests<3.0,>=2.20.0->googlemaps) (2.2.2)\n",
      "Requirement already satisfied: certifi>=2017.4.17 in /usr/local/opt/certifi/lib/python3.12/site-packages (from requests<3.0,>=2.20.0->googlemaps) (2024.7.4)\n",
      "Installing collected packages: googlemaps\n",
      "Successfully installed googlemaps-4.10.0\n",
      "\n",
      "\u001b[1m[\u001b[0m\u001b[34;49mnotice\u001b[0m\u001b[1;39;49m]\u001b[0m\u001b[39;49m A new release of pip is available: \u001b[0m\u001b[31;49m24.0\u001b[0m\u001b[39;49m -> \u001b[0m\u001b[32;49m24.2\u001b[0m\n",
      "\u001b[1m[\u001b[0m\u001b[34;49mnotice\u001b[0m\u001b[1;39;49m]\u001b[0m\u001b[39;49m To update, run: \u001b[0m\u001b[32;49m/usr/local/Cellar/jupyterlab/4.2.3/libexec/bin/python -m pip install --upgrade pip\u001b[0m\n",
      "Note: you may need to restart the kernel to use updated packages.\n"
     ]
    }
   ],
   "source": [
    "!pip3 install googlemaps\n",
    "\n",
    "%pip install googlemaps"
   ]
  },
  {
   "cell_type": "markdown",
   "metadata": {
    "editable": true,
    "slideshow": {
     "slide_type": "fragment"
    },
    "tags": []
   },
   "source": [
    "3. Import your credentials from start_google.py"
   ]
  },
  {
   "cell_type": "code",
   "execution_count": 40,
   "metadata": {
    "editable": true,
    "slideshow": {
     "slide_type": "fragment"
    },
    "tags": []
   },
   "outputs": [],
   "source": [
    "import importlib\n",
    "imported_items = importlib.import_module('start_google')"
   ]
  },
  {
   "cell_type": "markdown",
   "metadata": {
    "editable": true,
    "slideshow": {
     "slide_type": "subslide"
    },
    "tags": []
   },
   "source": [
    "##### Let's play around with it"
   ]
  },
  {
   "cell_type": "markdown",
   "metadata": {
    "editable": true,
    "slideshow": {
     "slide_type": "fragment"
    },
    "tags": []
   },
   "source": [
    "* Copy client to an object named `gmaps`"
   ]
  },
  {
   "cell_type": "code",
   "execution_count": 41,
   "metadata": {
    "editable": true,
    "slideshow": {
     "slide_type": "fragment"
    },
    "tags": []
   },
   "outputs": [],
   "source": [
    "gmaps = imported_items.client\n",
    "# gmaps"
   ]
  },
  {
   "cell_type": "markdown",
   "metadata": {
    "editable": true,
    "slideshow": {
     "slide_type": "slide"
    },
    "tags": []
   },
   "source": [
    "#### 2.1 Locating known places (no address)"
   ]
  },
  {
   "cell_type": "markdown",
   "metadata": {
    "editable": true,
    "slideshow": {
     "slide_type": "fragment"
    },
    "tags": []
   },
   "source": [
    "##### Locate The White House"
   ]
  },
  {
   "cell_type": "markdown",
   "metadata": {
    "editable": true,
    "slideshow": {
     "slide_type": "fragment"
    },
    "tags": []
   },
   "source": [
    "* `location` is a list of many dictionaries nested into 1"
   ]
  },
  {
   "cell_type": "code",
   "execution_count": 43,
   "metadata": {
    "editable": true,
    "slideshow": {
     "slide_type": "fragment"
    },
    "tags": []
   },
   "outputs": [
    {
     "data": {
      "text/plain": [
       "[{'long_name': '1600', 'short_name': '1600', 'types': ['street_number']},\n",
       " {'long_name': 'Pennsylvania Avenue Northwest',\n",
       "  'short_name': 'Pennsylvania Avenue NW',\n",
       "  'types': ['route']},\n",
       " {'long_name': 'Northwest Washington',\n",
       "  'short_name': 'Northwest Washington',\n",
       "  'types': ['neighborhood', 'political']},\n",
       " {'long_name': 'Washington',\n",
       "  'short_name': 'Washington',\n",
       "  'types': ['locality', 'political']},\n",
       " {'long_name': 'District of Columbia',\n",
       "  'short_name': 'DC',\n",
       "  'types': ['administrative_area_level_1', 'political']},\n",
       " {'long_name': 'United States',\n",
       "  'short_name': 'US',\n",
       "  'types': ['country', 'political']},\n",
       " {'long_name': '20500', 'short_name': '20500', 'types': ['postal_code']}]"
      ]
     },
     "execution_count": 43,
     "metadata": {},
     "output_type": "execute_result"
    }
   ],
   "source": [
    "whitehouse = 'The White House'\n",
    "location = gmaps.geocode(whitehouse)\n",
    "# location\n",
    "location[0]['address_components']"
   ]
  },
  {
   "cell_type": "markdown",
   "metadata": {
    "editable": true,
    "slideshow": {
     "slide_type": "subslide"
    },
    "tags": []
   },
   "source": [
    "* Get keys"
   ]
  },
  {
   "cell_type": "code",
   "execution_count": 44,
   "metadata": {
    "editable": true,
    "slideshow": {
     "slide_type": "fragment"
    },
    "tags": []
   },
   "outputs": [
    {
     "data": {
      "text/plain": [
       "dict_keys(['address_components', 'formatted_address', 'geometry', 'partial_match', 'place_id', 'plus_code', 'types'])"
      ]
     },
     "execution_count": 44,
     "metadata": {},
     "output_type": "execute_result"
    }
   ],
   "source": [
    "location[0].keys()"
   ]
  },
  {
   "cell_type": "markdown",
   "metadata": {
    "editable": true,
    "slideshow": {
     "slide_type": "fragment"
    },
    "tags": []
   },
   "source": [
    "* Get geometry"
   ]
  },
  {
   "cell_type": "code",
   "execution_count": 45,
   "metadata": {
    "editable": true,
    "slideshow": {
     "slide_type": ""
    },
    "tags": []
   },
   "outputs": [
    {
     "data": {
      "text/plain": [
       "dict_keys(['location', 'location_type', 'viewport'])"
      ]
     },
     "execution_count": 45,
     "metadata": {},
     "output_type": "execute_result"
    }
   ],
   "source": [
    "location[0]['geometry'].keys()"
   ]
  },
  {
   "cell_type": "markdown",
   "metadata": {
    "editable": true,
    "slideshow": {
     "slide_type": "subslide"
    },
    "tags": []
   },
   "source": [
    "* Get location"
   ]
  },
  {
   "cell_type": "code",
   "execution_count": 46,
   "metadata": {
    "editable": true,
    "slideshow": {
     "slide_type": "fragment"
    },
    "tags": []
   },
   "outputs": [
    {
     "data": {
      "text/plain": [
       "{'lat': 38.8976763, 'lng': -77.0365298}"
      ]
     },
     "execution_count": 46,
     "metadata": {},
     "output_type": "execute_result"
    }
   ],
   "source": [
    "location[0]['geometry']['location']"
   ]
  },
  {
   "cell_type": "markdown",
   "metadata": {
    "editable": true,
    "slideshow": {
     "slide_type": "fragment"
    },
    "tags": []
   },
   "source": [
    "* Store info in object `latlong`"
   ]
  },
  {
   "cell_type": "code",
   "execution_count": 47,
   "metadata": {
    "editable": true,
    "slideshow": {
     "slide_type": "fragment"
    },
    "tags": []
   },
   "outputs": [],
   "source": [
    "latlong = location[0]['geometry']['location']"
   ]
  },
  {
   "cell_type": "markdown",
   "metadata": {
    "editable": true,
    "slideshow": {
     "slide_type": "subslide"
    },
    "tags": []
   },
   "source": [
    "* Get the destination using `latlong`"
   ]
  },
  {
   "cell_type": "code",
   "execution_count": 49,
   "metadata": {
    "editable": true,
    "scrolled": true,
    "slideshow": {
     "slide_type": "fragment"
    },
    "tags": []
   },
   "outputs": [],
   "source": [
    "destination = gmaps.reverse_geocode(latlong)\n",
    "# destination"
   ]
  },
  {
   "cell_type": "markdown",
   "metadata": {
    "editable": true,
    "slideshow": {
     "slide_type": "fragment"
    },
    "tags": []
   },
   "source": [
    "* Sometimes you have to dig..."
   ]
  },
  {
   "cell_type": "code",
   "execution_count": 50,
   "metadata": {
    "editable": true,
    "slideshow": {
     "slide_type": "fragment"
    },
    "tags": []
   },
   "outputs": [
    {
     "name": "stdout",
     "output_type": "stream",
     "text": [
      "Pennsylvania Avenue Northwest\n"
     ]
    }
   ],
   "source": [
    "print(destination[0][\"address_components\"][1]['long_name'])"
   ]
  },
  {
   "cell_type": "markdown",
   "metadata": {
    "editable": true,
    "slideshow": {
     "slide_type": "slide"
    },
    "tags": []
   },
   "source": [
    "#### 2.2 Calculating distance with street address"
   ]
  },
  {
   "cell_type": "markdown",
   "metadata": {
    "editable": true,
    "slideshow": {
     "slide_type": "fragment"
    },
    "tags": []
   },
   "source": [
    "##### Find Duke University"
   ]
  },
  {
   "cell_type": "code",
   "execution_count": 51,
   "metadata": {
    "editable": true,
    "slideshow": {
     "slide_type": "fragment"
    },
    "tags": []
   },
   "outputs": [
    {
     "data": {
      "text/plain": [
       "{'lat': 36.0021437, 'lng': -78.93851490000002}"
      ]
     },
     "execution_count": 51,
     "metadata": {},
     "output_type": "execute_result"
    }
   ],
   "source": [
    "duke = gmaps.geocode('326 Perkins Library, Durham, NC 27708')\n",
    "duke_loc = duke[0]['geometry']['location']\n",
    "duke_loc"
   ]
  },
  {
   "cell_type": "markdown",
   "metadata": {
    "editable": true,
    "slideshow": {
     "slide_type": "fragment"
    },
    "tags": []
   },
   "source": [
    "##### Find WUSTL"
   ]
  },
  {
   "cell_type": "code",
   "execution_count": 52,
   "metadata": {
    "editable": true,
    "slideshow": {
     "slide_type": "fragment"
    },
    "tags": []
   },
   "outputs": [
    {
     "data": {
      "text/plain": [
       "{'lat': 38.6482446, 'lng': -90.30494159999999}"
      ]
     },
     "execution_count": 52,
     "metadata": {},
     "output_type": "execute_result"
    }
   ],
   "source": [
    "washu = gmaps.geocode('1 Brookings Dr, St. Louis, MO 63130')\n",
    "washu_loc = washu[0]['geometry']['location']\n",
    "washu_loc"
   ]
  },
  {
   "cell_type": "markdown",
   "metadata": {
    "editable": true,
    "slideshow": {
     "slide_type": "subslide"
    },
    "tags": []
   },
   "source": [
    "* Find the distance (in km) between Duke and WUSTL"
   ]
  },
  {
   "cell_type": "code",
   "execution_count": 54,
   "metadata": {
    "editable": true,
    "slideshow": {
     "slide_type": "fragment"
    },
    "tags": []
   },
   "outputs": [
    {
     "name": "stdout",
     "output_type": "stream",
     "text": [
      "1,302 km\n"
     ]
    }
   ],
   "source": [
    "distance = gmaps.distance_matrix(duke_loc, washu_loc)\n",
    "print(distance['rows'][0]['elements'][0]['distance']['text'])"
   ]
  },
  {
   "cell_type": "markdown",
   "metadata": {
    "editable": true,
    "slideshow": {
     "slide_type": "subslide"
    },
    "tags": []
   },
   "source": [
    "##### 2.3 Plotting in Google Maps"
   ]
  },
  {
   "cell_type": "markdown",
   "metadata": {
    "editable": true,
    "slideshow": {
     "slide_type": "fragment"
    },
    "tags": []
   },
   "source": [
    "* More information on: https://github.com/vgm64/gmplot\n",
    "* Run the following in a Jupyter cell:"
   ]
  },
  {
   "cell_type": "code",
   "execution_count": 55,
   "metadata": {
    "editable": true,
    "slideshow": {
     "slide_type": "fragment"
    },
    "tags": []
   },
   "outputs": [
    {
     "name": "stdout",
     "output_type": "stream",
     "text": [
      "Collecting gmplot\n",
      "  Downloading gmplot-1.4.1-py3-none-any.whl.metadata (2.7 kB)\n",
      "Requirement already satisfied: requests in /Library/Frameworks/Python.framework/Versions/3.12/lib/python3.12/site-packages (from gmplot) (2.32.3)\n",
      "Requirement already satisfied: charset-normalizer<4,>=2 in /Library/Frameworks/Python.framework/Versions/3.12/lib/python3.12/site-packages (from requests->gmplot) (3.3.2)\n",
      "Requirement already satisfied: idna<4,>=2.5 in /Library/Frameworks/Python.framework/Versions/3.12/lib/python3.12/site-packages (from requests->gmplot) (3.7)\n",
      "Requirement already satisfied: urllib3<3,>=1.21.1 in /Library/Frameworks/Python.framework/Versions/3.12/lib/python3.12/site-packages (from requests->gmplot) (2.2.2)\n",
      "Requirement already satisfied: certifi>=2017.4.17 in /Library/Frameworks/Python.framework/Versions/3.12/lib/python3.12/site-packages (from requests->gmplot) (2024.7.4)\n",
      "Downloading gmplot-1.4.1-py3-none-any.whl (164 kB)\n",
      "Installing collected packages: gmplot\n",
      "Successfully installed gmplot-1.4.1\n",
      "Collecting gmplot\n",
      "  Using cached gmplot-1.4.1-py3-none-any.whl.metadata (2.7 kB)\n",
      "Requirement already satisfied: requests in /usr/local/Cellar/jupyterlab/4.2.3/libexec/lib/python3.12/site-packages (from gmplot) (2.32.3)\n",
      "Requirement already satisfied: charset-normalizer<4,>=2 in /usr/local/Cellar/jupyterlab/4.2.3/libexec/lib/python3.12/site-packages (from requests->gmplot) (3.3.2)\n",
      "Requirement already satisfied: idna<4,>=2.5 in /usr/local/Cellar/jupyterlab/4.2.3/libexec/lib/python3.12/site-packages (from requests->gmplot) (3.7)\n",
      "Requirement already satisfied: urllib3<3,>=1.21.1 in /usr/local/Cellar/jupyterlab/4.2.3/libexec/lib/python3.12/site-packages (from requests->gmplot) (2.2.2)\n",
      "Requirement already satisfied: certifi>=2017.4.17 in /usr/local/opt/certifi/lib/python3.12/site-packages (from requests->gmplot) (2024.7.4)\n",
      "Using cached gmplot-1.4.1-py3-none-any.whl (164 kB)\n",
      "Installing collected packages: gmplot\n",
      "Successfully installed gmplot-1.4.1\n",
      "\n",
      "\u001b[1m[\u001b[0m\u001b[34;49mnotice\u001b[0m\u001b[1;39;49m]\u001b[0m\u001b[39;49m A new release of pip is available: \u001b[0m\u001b[31;49m24.0\u001b[0m\u001b[39;49m -> \u001b[0m\u001b[32;49m24.2\u001b[0m\n",
      "\u001b[1m[\u001b[0m\u001b[34;49mnotice\u001b[0m\u001b[1;39;49m]\u001b[0m\u001b[39;49m To update, run: \u001b[0m\u001b[32;49m/usr/local/Cellar/jupyterlab/4.2.3/libexec/bin/python -m pip install --upgrade pip\u001b[0m\n",
      "Note: you may need to restart the kernel to use updated packages.\n"
     ]
    }
   ],
   "source": [
    "!pip3 install gmplot\n",
    "\n",
    "%pip install gmplot"
   ]
  },
  {
   "cell_type": "markdown",
   "metadata": {
    "editable": true,
    "slideshow": {
     "slide_type": "subslide"
    },
    "tags": []
   },
   "source": [
    "* Get St. Louis"
   ]
  },
  {
   "cell_type": "code",
   "execution_count": 56,
   "metadata": {
    "editable": true,
    "slideshow": {
     "slide_type": "fragment"
    },
    "tags": []
   },
   "outputs": [],
   "source": [
    "from gmplot import gmplot\n",
    "google_key = imported_items.api_key\n",
    "\n",
    "STL = gmaps.geocode('St. Louis')\n",
    "STL[0]['geometry']['location']\n",
    "latlongSTL = STL[0]['geometry']['location']"
   ]
  },
  {
   "cell_type": "code",
   "execution_count": 58,
   "metadata": {
    "editable": true,
    "slideshow": {
     "slide_type": "fragment"
    },
    "tags": []
   },
   "outputs": [
    {
     "data": {
      "text/plain": [
       "{'lat': 38.6270025, 'lng': -90.19940419999999}"
      ]
     },
     "execution_count": 58,
     "metadata": {},
     "output_type": "execute_result"
    }
   ],
   "source": [
    "latlongSTL"
   ]
  },
  {
   "cell_type": "markdown",
   "metadata": {
    "editable": true,
    "slideshow": {
     "slide_type": "subslide"
    },
    "tags": []
   },
   "source": [
    "* Create plot area"
   ]
  },
  {
   "cell_type": "code",
   "execution_count": 59,
   "metadata": {
    "editable": true,
    "slideshow": {
     "slide_type": "fragment"
    },
    "tags": []
   },
   "outputs": [],
   "source": [
    "plot1 = gmplot.GoogleMapPlotter(lat = latlongSTL['lat'], \n",
    "                                lng = latlongSTL['lng'],\n",
    "                                zoom = 13, \n",
    "                                apikey = google_key)"
   ]
  },
  {
   "cell_type": "markdown",
   "metadata": {
    "editable": true,
    "slideshow": {
     "slide_type": "fragment"
    },
    "tags": []
   },
   "source": [
    "* Create an object with places in STL"
   ]
  },
  {
   "cell_type": "code",
   "execution_count": 60,
   "metadata": {
    "editable": true,
    "slideshow": {
     "slide_type": "fragment"
    },
    "tags": []
   },
   "outputs": [],
   "source": [
    "stl_places = [\"Forest Park, St. Louis\",\n",
    "\t\t\t\"Missouri Botanical Garden, St. Louis\",\n",
    "\t\t\t\"Anheuser Busch, St. Louis\",\n",
    "\t\t\t\"Arch, St. Louis\"]"
   ]
  },
  {
   "cell_type": "markdown",
   "metadata": {
    "editable": true,
    "slideshow": {
     "slide_type": "subslide"
    },
    "tags": []
   },
   "source": [
    "* Create a function to find latlong for stl_places"
   ]
  },
  {
   "cell_type": "code",
   "execution_count": 61,
   "metadata": {
    "editable": true,
    "slideshow": {
     "slide_type": "fragment"
    },
    "tags": []
   },
   "outputs": [],
   "source": [
    "def grab_latlng(place):\n",
    "\tx = gmaps.geocode(place)\n",
    "\treturn (x[0][\"geometry\"][\"location\"][\"lat\"], x[0][\"geometry\"][\"location\"][\"lng\"])"
   ]
  },
  {
   "cell_type": "markdown",
   "metadata": {
    "editable": true,
    "slideshow": {
     "slide_type": "fragment"
    },
    "tags": []
   },
   "source": [
    "* Run the function"
   ]
  },
  {
   "cell_type": "code",
   "execution_count": 62,
   "metadata": {
    "editable": true,
    "slideshow": {
     "slide_type": "fragment"
    },
    "tags": []
   },
   "outputs": [
    {
     "data": {
      "text/plain": [
       "[(38.637152, -90.28579739999999),\n",
       " (38.6127672, -90.25937979999999),\n",
       " (38.6270025, -90.19940419999999),\n",
       " (38.6251269, -90.1867504)]"
      ]
     },
     "execution_count": 62,
     "metadata": {},
     "output_type": "execute_result"
    }
   ],
   "source": [
    "l = [grab_latlng(i) for i in stl_places]\n",
    "l"
   ]
  },
  {
   "cell_type": "markdown",
   "metadata": {
    "editable": true,
    "slideshow": {
     "slide_type": "subslide"
    },
    "tags": []
   },
   "source": [
    "##### Built-in function `zip()`"
   ]
  },
  {
   "cell_type": "markdown",
   "metadata": {
    "editable": true,
    "slideshow": {
     "slide_type": "fragment"
    },
    "tags": []
   },
   "source": [
    "* Use `zip()` to assign lat and long to different objects\n",
    "* `zip(*l )` means that the object `l` will be unpacked\n",
    "* Each of its elements will be returned separately"
   ]
  },
  {
   "cell_type": "code",
   "execution_count": 63,
   "metadata": {
    "editable": true,
    "slideshow": {
     "slide_type": "fragment"
    },
    "tags": []
   },
   "outputs": [
    {
     "data": {
      "text/plain": [
       "(-90.28579739999999, -90.25937979999999, -90.19940419999999, -90.1867504)"
      ]
     },
     "execution_count": 63,
     "metadata": {},
     "output_type": "execute_result"
    }
   ],
   "source": [
    "attraction_lats, attraction_lons = zip(*l)\n",
    "# attraction_lats\n",
    "attraction_lons"
   ]
  },
  {
   "cell_type": "markdown",
   "metadata": {
    "editable": true,
    "slideshow": {
     "slide_type": "subslide"
    },
    "tags": []
   },
   "source": [
    "* Add points to our plot"
   ]
  },
  {
   "cell_type": "code",
   "execution_count": 64,
   "metadata": {
    "editable": true,
    "slideshow": {
     "slide_type": "fragment"
    },
    "tags": []
   },
   "outputs": [],
   "source": [
    "plot1.scatter(lats = attraction_lats, \n",
    "\t\t\t  lngs = attraction_lons,\n",
    "\t\t\t  color = 'black',\n",
    "\t\t\t  size = 40,\n",
    "\t\t\t  marker = True)"
   ]
  },
  {
   "cell_type": "markdown",
   "metadata": {
    "editable": true,
    "slideshow": {
     "slide_type": "fragment"
    },
    "tags": []
   },
   "source": [
    "* Draw the plot"
   ]
  },
  {
   "cell_type": "code",
   "execution_count": 67,
   "metadata": {
    "editable": true,
    "slideshow": {
     "slide_type": "fragment"
    },
    "tags": []
   },
   "outputs": [],
   "source": [
    "plot1.draw('/Users/ea025/Desktop/Python Camp - Alexander/PythonCamp2024/Day05/Lecture/my_map.html')"
   ]
  },
  {
   "cell_type": "markdown",
   "metadata": {
    "editable": true,
    "slideshow": {
     "slide_type": "subslide"
    },
    "tags": []
   },
   "source": [
    "Tip: Here is a list of all public APIs: \n",
    "https://github.com/public-api-lists/public-api-lists\n",
    "\n",
    "Start thinking about what you want to do for your poster project! \n",
    "\n",
    "You could use any of the APIs that we cover in the course, or any APIs that you find interesting to get your data! "
   ]
  }
 ],
 "metadata": {
  "kernelspec": {
   "display_name": "Python 3 (ipykernel)",
   "language": "python",
   "name": "python3"
  },
  "language_info": {
   "codemirror_mode": {
    "name": "ipython",
    "version": 3
   },
   "file_extension": ".py",
   "mimetype": "text/x-python",
   "name": "python",
   "nbconvert_exporter": "python",
   "pygments_lexer": "ipython3",
   "version": "3.12.4"
  }
 },
 "nbformat": 4,
 "nbformat_minor": 4
}

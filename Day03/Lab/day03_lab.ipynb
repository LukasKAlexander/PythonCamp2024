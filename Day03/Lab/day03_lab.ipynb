{
 "cells": [
  {
   "cell_type": "markdown",
   "metadata": {},
   "source": [
    "# Lab: Error Handling"
   ]
  },
  {
   "cell_type": "markdown",
   "metadata": {},
   "source": [
    "1. Complete the function to make all characters capitalized. \n",
    "    - check out the `.upper()` function\n",
    "    - handle the exception when intergers are given instead of strings"
   ]
  },
  {
   "cell_type": "code",
   "execution_count": 23,
   "metadata": {},
   "outputs": [
    {
     "name": "stdout",
     "output_type": "stream",
     "text": [
      "MOOOOO\n"
     ]
    }
   ],
   "source": [
    "def shout(txt):\n",
    "    if isinstance(txt, int): \n",
    "        raise TypeError(\"You need to enter a word, not a number!\")\n",
    "    elif isinstance(txt, float): \n",
    "        raise TypeError(\"You need to enter a word, not a number!\")\n",
    "    print(txt.upper())\n",
    "\n",
    "txt = \"mooooo\"\n",
    "shout(txt)"
   ]
  },
  {
   "cell_type": "markdown",
   "metadata": {},
   "source": [
    "2. Reverse all characters in a string\n",
    "    - handle the exception when integers are given \n",
    "    - use a different method to handle this from 1."
   ]
  },
  {
   "cell_type": "code",
   "execution_count": 14,
   "metadata": {},
   "outputs": [
    {
     "name": "stdout",
     "output_type": "stream",
     "text": [
      "mool mood moob\n"
     ]
    }
   ],
   "source": [
    "def reverse(txt):\n",
    "    if isinstance(txt, int): \n",
    "        raise TypeError(\"You need to enter a word without numbers!\")\n",
    "    rev = txt[::-1]\n",
    "    return rev\n",
    "\n",
    "txt = \"boom doom loom\"\n",
    "print(reverse(txt)) \n"
   ]
  },
  {
   "cell_type": "markdown",
   "metadata": {},
   "source": [
    "3. Reverse the word ordering in a string\n",
    "    - assume words are separated by space\n",
    "    - think of one error that could occur and handle it accordingly"
   ]
  },
  {
   "cell_type": "code",
   "execution_count": 21,
   "metadata": {},
   "outputs": [
    {
     "name": "stdout",
     "output_type": "stream",
     "text": [
      "moob mood mool\n"
     ]
    }
   ],
   "source": [
    "#I want to make sure the word order is preserved.\n",
    "\n",
    "def reversewords(txt):\n",
    "    if isinstance(txt, int): \n",
    "        raise TypeError(\"You need to enter a word without numbers!\")\n",
    "        \n",
    "    words = txt.split(' ')\n",
    "    reversed_words = [word[::-1] for word in words]\n",
    "    rev_txt = ' '.join(reversed_words)\n",
    "    return rev_txt\n",
    "\n",
    "txt = \"boom doom loom\"\n",
    "print(reversewords(txt))\n"
   ]
  },
  {
   "cell_type": "markdown",
   "metadata": {},
   "source": [
    "4. Reverse letters in each word in the string\n",
    "    - The word ordering is preserved\n",
    "    - Only the letters are reversed "
   ]
  },
  {
   "cell_type": "code",
   "execution_count": 22,
   "metadata": {},
   "outputs": [
    {
     "name": "stdout",
     "output_type": "stream",
     "text": [
      "moob mood mool\n"
     ]
    }
   ],
   "source": [
    "def reversewordletters(txt):\n",
    "    if isinstance(txt, int): \n",
    "        raise TypeError(\"You need to enter a word without numbers!\")\n",
    "        \n",
    "    words = txt.split(' ')\n",
    "    reversed_words = [word[::-1] for word in words]\n",
    "    rev_txt = ' '.join(reversed_words)\n",
    "    return rev_txt\n",
    "\n",
    "txt = \"boom doom loom\"\n",
    "print(reversewords(txt))"
   ]
  },
  {
   "cell_type": "markdown",
   "metadata": {},
   "source": [
    "5. (Optional) Change text to piglatin... Google it! \n",
    "    - Handle errors accordingly"
   ]
  },
  {
   "cell_type": "code",
   "execution_count": null,
   "metadata": {},
   "outputs": [],
   "source": [
    "def piglatin(txt):\n",
    "    # YOUR CODE HERE"
   ]
  },
  {
   "cell_type": "code",
   "execution_count": null,
   "metadata": {},
   "outputs": [],
   "source": []
  }
 ],
 "metadata": {
  "kernelspec": {
   "display_name": "Python 3 (ipykernel)",
   "language": "python",
   "name": "python3"
  },
  "language_info": {
   "codemirror_mode": {
    "name": "ipython",
    "version": 3
   },
   "file_extension": ".py",
   "mimetype": "text/x-python",
   "name": "python",
   "nbconvert_exporter": "python",
   "pygments_lexer": "ipython3",
   "version": "3.12.4"
  }
 },
 "nbformat": 4,
 "nbformat_minor": 4
}

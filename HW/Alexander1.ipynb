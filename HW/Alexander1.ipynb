{
 "cells": [
  {
   "cell_type": "code",
   "execution_count": 4,
   "id": "0624c9aa-ffcd-461b-99b8-0918d6fbde2b",
   "metadata": {},
   "outputs": [],
   "source": [
    "#You can implement this software however you wish, but a consumer of the\n",
    "#application must at a minimum be able to do the following:\n",
    "#portfolio = Portfolio() #Creates a new portfolio\n",
    "#portfolio.addCash(300.50) #Adds cash to the portfolio\n",
    "#s = Stock(20, \"HFH\") #Create Stock with price 20 and symbol \"HFH\"\n",
    "#portfolio.buyStock(5, s) #Buys 5 shares of stock s\n",
    "#mf1 = MutualFund(\"BRT\") #Create MF with symbol \"BRT\"\n",
    "#mf2 = MutualFund(\"GHT\") #Create MF with symbol \"GHT\"\n",
    "#portfolio.buyMutualFund(10.3, mf1) #Buys 10.3 shares of \"BRT\"\n",
    "#portfolio.buyMutualFund(2, mf2) #Buys 2 shares of \"GHT\"\n",
    "#print(portfolio) #Prints portfolio\n",
    "#cash: $140.50\n",
    "#stock: 5 HFH\n",
    "\n",
    "class Portfolio:\n",
    "    def __init__(self):\n",
    "        self.cash = 0.0\n",
    "        self.stocks = {}\n",
    "        self.mutual_funds = {}\n",
    "        self.transactions = []\n",
    "\n",
    "    def addCash(self, amount):\n",
    "        self.cash += amount\n",
    "        \n",
    "    def withdrawCash(self, amount):\n",
    "        if amount > self.cash:\n",
    "            raise ValueError(\"Not enough cash!\")\n",
    "        self.cash -= amount\n",
    "\n",
    "\n"
   ]
  }
 ],
 "metadata": {
  "kernelspec": {
   "display_name": "Python 3 (ipykernel)",
   "language": "python",
   "name": "python3"
  },
  "language_info": {
   "codemirror_mode": {
    "name": "ipython",
    "version": 3
   },
   "file_extension": ".py",
   "mimetype": "text/x-python",
   "name": "python",
   "nbconvert_exporter": "python",
   "pygments_lexer": "ipython3",
   "version": "3.12.4"
  }
 },
 "nbformat": 4,
 "nbformat_minor": 5
}

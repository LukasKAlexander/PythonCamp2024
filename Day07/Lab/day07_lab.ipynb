{
 "cells": [
  {
   "cell_type": "markdown",
   "id": "b2e460a6-7112-41f2-9cf5-57bc990b9380",
   "metadata": {},
   "source": [
    "# Lab: NumPy and Pandas"
   ]
  },
  {
   "cell_type": "markdown",
   "id": "3d406095-01c1-412d-8319-a4b5e28218e7",
   "metadata": {},
   "source": [
    "### 1. Pandas"
   ]
  },
  {
   "cell_type": "markdown",
   "id": "fbf43a23-fc8f-4681-aeee-44fa824ac78e",
   "metadata": {},
   "source": [
    "* Read in file `life_expectancy_data.csv`"
   ]
  },
  {
   "cell_type": "code",
   "execution_count": 2,
   "id": "a144a019-2b52-4619-8957-3c38e276b4ec",
   "metadata": {},
   "outputs": [
    {
     "data": {
      "text/plain": [
       "<bound method NDFrame.head of           Country  Year      Status  Life expectancy   Adult Mortality  \\\n",
       "0     Afghanistan  2015  Developing              65.0            263.0   \n",
       "1     Afghanistan  2014  Developing              59.9            271.0   \n",
       "2     Afghanistan  2013  Developing              59.9            268.0   \n",
       "3     Afghanistan  2012  Developing              59.5            272.0   \n",
       "4     Afghanistan  2011  Developing              59.2            275.0   \n",
       "...           ...   ...         ...               ...              ...   \n",
       "2933     Zimbabwe  2004  Developing              44.3            723.0   \n",
       "2934     Zimbabwe  2003  Developing              44.5            715.0   \n",
       "2935     Zimbabwe  2002  Developing              44.8             73.0   \n",
       "2936     Zimbabwe  2001  Developing              45.3            686.0   \n",
       "2937     Zimbabwe  2000  Developing              46.0            665.0   \n",
       "\n",
       "      infant deaths  Alcohol  percentage expenditure  Hepatitis B  Measles   \\\n",
       "0                62     0.01               71.279624         65.0      1154   \n",
       "1                64     0.01               73.523582         62.0       492   \n",
       "2                66     0.01               73.219243         64.0       430   \n",
       "3                69     0.01               78.184215         67.0      2787   \n",
       "4                71     0.01                7.097109         68.0      3013   \n",
       "...             ...      ...                     ...          ...       ...   \n",
       "2933             27     4.36                0.000000         68.0        31   \n",
       "2934             26     4.06                0.000000          7.0       998   \n",
       "2935             25     4.43                0.000000         73.0       304   \n",
       "2936             25     1.72                0.000000         76.0       529   \n",
       "2937             24     1.68                0.000000         79.0      1483   \n",
       "\n",
       "      ...  Polio  Total expenditure  Diphtheria    HIV/AIDS         GDP  \\\n",
       "0     ...    6.0               8.16         65.0        0.1  584.259210   \n",
       "1     ...   58.0               8.18         62.0        0.1  612.696514   \n",
       "2     ...   62.0               8.13         64.0        0.1  631.744976   \n",
       "3     ...   67.0               8.52         67.0        0.1  669.959000   \n",
       "4     ...   68.0               7.87         68.0        0.1   63.537231   \n",
       "...   ...    ...                ...          ...        ...         ...   \n",
       "2933  ...   67.0               7.13         65.0       33.6  454.366654   \n",
       "2934  ...    7.0               6.52         68.0       36.7  453.351155   \n",
       "2935  ...   73.0               6.53         71.0       39.8   57.348340   \n",
       "2936  ...   76.0               6.16         75.0       42.1  548.587312   \n",
       "2937  ...   78.0               7.10         78.0       43.5  547.358878   \n",
       "\n",
       "      Population   thinness  1-19 years   thinness 5-9 years  \\\n",
       "0     33736494.0                   17.2                 17.3   \n",
       "1       327582.0                   17.5                 17.5   \n",
       "2     31731688.0                   17.7                 17.7   \n",
       "3      3696958.0                   17.9                 18.0   \n",
       "4      2978599.0                   18.2                 18.2   \n",
       "...          ...                    ...                  ...   \n",
       "2933  12777511.0                    9.4                  9.4   \n",
       "2934  12633897.0                    9.8                  9.9   \n",
       "2935    125525.0                    1.2                  1.3   \n",
       "2936  12366165.0                    1.6                  1.7   \n",
       "2937  12222251.0                   11.0                 11.2   \n",
       "\n",
       "      Income composition of resources  Schooling  \n",
       "0                               0.479       10.1  \n",
       "1                               0.476       10.0  \n",
       "2                               0.470        9.9  \n",
       "3                               0.463        9.8  \n",
       "4                               0.454        9.5  \n",
       "...                               ...        ...  \n",
       "2933                            0.407        9.2  \n",
       "2934                            0.418        9.5  \n",
       "2935                            0.427       10.0  \n",
       "2936                            0.427        9.8  \n",
       "2937                            0.434        9.8  \n",
       "\n",
       "[2938 rows x 22 columns]>"
      ]
     },
     "execution_count": 2,
     "metadata": {},
     "output_type": "execute_result"
    }
   ],
   "source": [
    "import pandas as pd\n",
    "import os\n",
    "\n",
    "led = pd.read_csv('life_expectancy_data.csv')\n"
   ]
  },
  {
   "cell_type": "markdown",
   "id": "b395eee1-08e3-4f50-938a-0f7ac6a86614",
   "metadata": {},
   "source": [
    "* Rename columns "
   ]
  },
  {
   "cell_type": "markdown",
   "id": "0bb539b5-ec45-4926-ad74-2496be7fe925",
   "metadata": {},
   "source": [
    "1. Make them all lower case, remove all hyphens, whitespace, and slashes.\n",
    "2. Make \"Income composition of resources\" --> \"composition\", and \"BMI\" --> \"avg_bmi\".\n",
    "3. Change the name of \"under-five deaths\" to something else of your choosing."
   ]
  },
  {
   "cell_type": "code",
   "execution_count": 8,
   "id": "f79836d4-52ae-4982-a3ca-f6834b1a7c42",
   "metadata": {},
   "outputs": [
    {
     "data": {
      "text/html": [
       "<div>\n",
       "<style scoped>\n",
       "    .dataframe tbody tr th:only-of-type {\n",
       "        vertical-align: middle;\n",
       "    }\n",
       "\n",
       "    .dataframe tbody tr th {\n",
       "        vertical-align: top;\n",
       "    }\n",
       "\n",
       "    .dataframe thead th {\n",
       "        text-align: right;\n",
       "    }\n",
       "</style>\n",
       "<table border=\"1\" class=\"dataframe\">\n",
       "  <thead>\n",
       "    <tr style=\"text-align: right;\">\n",
       "      <th></th>\n",
       "      <th>Country</th>\n",
       "      <th>Year</th>\n",
       "      <th>Status</th>\n",
       "      <th>Life expectancy</th>\n",
       "      <th>Adult Mortality</th>\n",
       "      <th>ID</th>\n",
       "      <th>Alcohol</th>\n",
       "      <th>PE</th>\n",
       "      <th>HepB</th>\n",
       "      <th>Measles</th>\n",
       "      <th>...</th>\n",
       "      <th>Polio</th>\n",
       "      <th>TE</th>\n",
       "      <th>Diphtheria</th>\n",
       "      <th>HIV</th>\n",
       "      <th>GDP</th>\n",
       "      <th>Population</th>\n",
       "      <th>thinU20</th>\n",
       "      <th>thinness 5-9 years</th>\n",
       "      <th>ICR</th>\n",
       "      <th>Schooling</th>\n",
       "    </tr>\n",
       "  </thead>\n",
       "  <tbody>\n",
       "    <tr>\n",
       "      <th>0</th>\n",
       "      <td>Afghanistan</td>\n",
       "      <td>2015</td>\n",
       "      <td>Developing</td>\n",
       "      <td>65.0</td>\n",
       "      <td>263.0</td>\n",
       "      <td>62</td>\n",
       "      <td>0.01</td>\n",
       "      <td>71.279624</td>\n",
       "      <td>65.0</td>\n",
       "      <td>1154</td>\n",
       "      <td>...</td>\n",
       "      <td>6.0</td>\n",
       "      <td>8.16</td>\n",
       "      <td>65.0</td>\n",
       "      <td>0.1</td>\n",
       "      <td>584.259210</td>\n",
       "      <td>33736494.0</td>\n",
       "      <td>17.2</td>\n",
       "      <td>17.3</td>\n",
       "      <td>0.479</td>\n",
       "      <td>10.1</td>\n",
       "    </tr>\n",
       "    <tr>\n",
       "      <th>1</th>\n",
       "      <td>Afghanistan</td>\n",
       "      <td>2014</td>\n",
       "      <td>Developing</td>\n",
       "      <td>59.9</td>\n",
       "      <td>271.0</td>\n",
       "      <td>64</td>\n",
       "      <td>0.01</td>\n",
       "      <td>73.523582</td>\n",
       "      <td>62.0</td>\n",
       "      <td>492</td>\n",
       "      <td>...</td>\n",
       "      <td>58.0</td>\n",
       "      <td>8.18</td>\n",
       "      <td>62.0</td>\n",
       "      <td>0.1</td>\n",
       "      <td>612.696514</td>\n",
       "      <td>327582.0</td>\n",
       "      <td>17.5</td>\n",
       "      <td>17.5</td>\n",
       "      <td>0.476</td>\n",
       "      <td>10.0</td>\n",
       "    </tr>\n",
       "    <tr>\n",
       "      <th>2</th>\n",
       "      <td>Afghanistan</td>\n",
       "      <td>2013</td>\n",
       "      <td>Developing</td>\n",
       "      <td>59.9</td>\n",
       "      <td>268.0</td>\n",
       "      <td>66</td>\n",
       "      <td>0.01</td>\n",
       "      <td>73.219243</td>\n",
       "      <td>64.0</td>\n",
       "      <td>430</td>\n",
       "      <td>...</td>\n",
       "      <td>62.0</td>\n",
       "      <td>8.13</td>\n",
       "      <td>64.0</td>\n",
       "      <td>0.1</td>\n",
       "      <td>631.744976</td>\n",
       "      <td>31731688.0</td>\n",
       "      <td>17.7</td>\n",
       "      <td>17.7</td>\n",
       "      <td>0.470</td>\n",
       "      <td>9.9</td>\n",
       "    </tr>\n",
       "    <tr>\n",
       "      <th>3</th>\n",
       "      <td>Afghanistan</td>\n",
       "      <td>2012</td>\n",
       "      <td>Developing</td>\n",
       "      <td>59.5</td>\n",
       "      <td>272.0</td>\n",
       "      <td>69</td>\n",
       "      <td>0.01</td>\n",
       "      <td>78.184215</td>\n",
       "      <td>67.0</td>\n",
       "      <td>2787</td>\n",
       "      <td>...</td>\n",
       "      <td>67.0</td>\n",
       "      <td>8.52</td>\n",
       "      <td>67.0</td>\n",
       "      <td>0.1</td>\n",
       "      <td>669.959000</td>\n",
       "      <td>3696958.0</td>\n",
       "      <td>17.9</td>\n",
       "      <td>18.0</td>\n",
       "      <td>0.463</td>\n",
       "      <td>9.8</td>\n",
       "    </tr>\n",
       "    <tr>\n",
       "      <th>4</th>\n",
       "      <td>Afghanistan</td>\n",
       "      <td>2011</td>\n",
       "      <td>Developing</td>\n",
       "      <td>59.2</td>\n",
       "      <td>275.0</td>\n",
       "      <td>71</td>\n",
       "      <td>0.01</td>\n",
       "      <td>7.097109</td>\n",
       "      <td>68.0</td>\n",
       "      <td>3013</td>\n",
       "      <td>...</td>\n",
       "      <td>68.0</td>\n",
       "      <td>7.87</td>\n",
       "      <td>68.0</td>\n",
       "      <td>0.1</td>\n",
       "      <td>63.537231</td>\n",
       "      <td>2978599.0</td>\n",
       "      <td>18.2</td>\n",
       "      <td>18.2</td>\n",
       "      <td>0.454</td>\n",
       "      <td>9.5</td>\n",
       "    </tr>\n",
       "  </tbody>\n",
       "</table>\n",
       "<p>5 rows × 22 columns</p>\n",
       "</div>"
      ],
      "text/plain": [
       "       Country  Year      Status  Life expectancy   Adult Mortality  ID  \\\n",
       "0  Afghanistan  2015  Developing              65.0            263.0  62   \n",
       "1  Afghanistan  2014  Developing              59.9            271.0  64   \n",
       "2  Afghanistan  2013  Developing              59.9            268.0  66   \n",
       "3  Afghanistan  2012  Developing              59.5            272.0  69   \n",
       "4  Afghanistan  2011  Developing              59.2            275.0  71   \n",
       "\n",
       "   Alcohol         PE  HepB  Measles   ...  Polio    TE  Diphtheria   HIV  \\\n",
       "0     0.01  71.279624  65.0      1154  ...    6.0  8.16         65.0  0.1   \n",
       "1     0.01  73.523582  62.0       492  ...   58.0  8.18         62.0  0.1   \n",
       "2     0.01  73.219243  64.0       430  ...   62.0  8.13         64.0  0.1   \n",
       "3     0.01  78.184215  67.0      2787  ...   67.0  8.52         67.0  0.1   \n",
       "4     0.01   7.097109  68.0      3013  ...   68.0  7.87         68.0  0.1   \n",
       "\n",
       "          GDP  Population  thinU20   thinness 5-9 years    ICR  Schooling  \n",
       "0  584.259210  33736494.0     17.2                 17.3  0.479       10.1  \n",
       "1  612.696514    327582.0     17.5                 17.5  0.476       10.0  \n",
       "2  631.744976  31731688.0     17.7                 17.7  0.470        9.9  \n",
       "3  669.959000   3696958.0     17.9                 18.0  0.463        9.8  \n",
       "4   63.537231   2978599.0     18.2                 18.2  0.454        9.5  \n",
       "\n",
       "[5 rows x 22 columns]"
      ]
     },
     "execution_count": 8,
     "metadata": {},
     "output_type": "execute_result"
    }
   ],
   "source": [
    "led.dtypes\n",
    "led2 = led.rename(columns={\n",
    "    'Life expectancy': 'LE', \n",
    "    'Adult Morality':'AM', \n",
    "    'infant deaths': 'ID', \n",
    "    'percentage expenditure':'PE', \n",
    "    'Hepatitis B': 'HepB', \n",
    "    'under-five deaths':'U5dead', \n",
    "    'Total expenditure': 'TE', \n",
    "    ' HIV/AIDS':'HIV',   # Check for extra spaces here\n",
    "    ' BMI': 'BMI',       # Check for extra spaces here\n",
    "    ' thinness  1-19 years':'thinU20',  # Check spacing here\n",
    "    ' thinness  5-9 years': 'thin59',   # Check spacing here\n",
    "    'Income composition of resources':'ICR'\n",
    "})\n",
    "\n",
    "led2.head()"
   ]
  },
  {
   "cell_type": "markdown",
   "id": "c0caeb20-523c-48eb-b1ab-29763dd88be0",
   "metadata": {},
   "source": [
    "* Feature engineering"
   ]
  },
  {
   "cell_type": "markdown",
   "id": "e9e05f2c-a7cf-41c9-bab6-0c49cb98a33b",
   "metadata": {},
   "source": [
    "1. Combine the two \"thinness\" variables somehow\n",
    "2. Transform the GDP and Population variables somehow\n",
    "3. Make country and status variables into dummies. Give them a prefix of 'dum' to keep track of them\n",
    "4. Combine GDP and one of the expenditure variables into a new variable"
   ]
  },
  {
   "cell_type": "code",
   "execution_count": 7,
   "id": "6de4d2f8-adce-4b75-b324-0d695e143ac4",
   "metadata": {},
   "outputs": [],
   "source": [
    "# YOUR CODE HERE"
   ]
  },
  {
   "cell_type": "code",
   "execution_count": 3,
   "id": "5dde3dee-601b-4b03-a69a-139f36bd97e2",
   "metadata": {},
   "outputs": [],
   "source": [
    "# to access all your dummy cols\n",
    "le_df[[col for col in le_df if col.startswith('dum')]]"
   ]
  },
  {
   "cell_type": "markdown",
   "id": "9d04628c-e92f-49ec-9c9a-a0a6cc6196f3",
   "metadata": {},
   "source": [
    "* Summarize data"
   ]
  },
  {
   "cell_type": "markdown",
   "id": "ba767d60-f99a-4663-b80e-b74291ce6c9a",
   "metadata": {},
   "source": [
    "1. How many observations are there for developing countries?\n",
    "2. Drop all observations with missing values. How many rows were there before and how many are there now?\n",
    "3. How old is the oldest observation?"
   ]
  },
  {
   "cell_type": "code",
   "execution_count": null,
   "id": "2194df56-2b45-4b49-a662-7916ced2d4f8",
   "metadata": {},
   "outputs": [],
   "source": [
    "# YOUR CODE HERE"
   ]
  },
  {
   "cell_type": "markdown",
   "id": "21890740-563e-4bc1-ba18-815306c9f182",
   "metadata": {},
   "source": [
    "* Generate outputs"
   ]
  },
  {
   "cell_type": "markdown",
   "id": "3f5fe0bb-56d2-4ae8-a60b-94a22602a5e9",
   "metadata": {},
   "source": [
    "1. Export the new dataset as a CSV in your lab folder.\n",
    "2. Keep the following columns in a new dataset called `le2`: all your engineered features plus Life Expectancy, Schooling, GDP, total expenditures, and BMI. Drop everything else."
   ]
  },
  {
   "cell_type": "code",
   "execution_count": 133,
   "id": "0a62d3b9-a95d-4420-b388-7cac9eb009bd",
   "metadata": {},
   "outputs": [],
   "source": [
    "# YOUR CODE HERE"
   ]
  },
  {
   "cell_type": "markdown",
   "id": "4ab363dc-644a-4be7-8a2d-6c5df1528022",
   "metadata": {},
   "source": [
    "### 2. NumPy"
   ]
  },
  {
   "cell_type": "markdown",
   "id": "20a8c7cb-ec22-43f3-b26b-629072200f8b",
   "metadata": {},
   "source": [
    "* Define the following NumPy arrays:\n",
    "    1. `X`, containing the `schooling` and `gdp` variables in `le2`\n",
    "    2. `y`, containing only the life expectancy variable"
   ]
  },
  {
   "cell_type": "code",
   "execution_count": 4,
   "id": "e20dd362-ef20-4292-9ebf-2746b5859e67",
   "metadata": {},
   "outputs": [],
   "source": [
    "# YOUR CODE HERE"
   ]
  },
  {
   "cell_type": "markdown",
   "id": "49693a52-fe6b-4144-9a9e-d7ab6d6cdaa1",
   "metadata": {},
   "source": [
    "* Regression by hand\n",
    "    1. Using linear algebra operations, perform OLS to estimate $\\beta = (X^TX)^{-1}X^TY$. What is the coefficient estimate for the effect of schooling on life expectancy?"
   ]
  },
  {
   "cell_type": "code",
   "execution_count": 5,
   "id": "e62e394b-2592-49be-846a-c1d12b065d46",
   "metadata": {},
   "outputs": [],
   "source": [
    "# YOUR CODE HERE"
   ]
  },
  {
   "cell_type": "markdown",
   "id": "6945f596-93b2-49bd-8d01-0147c342b274",
   "metadata": {},
   "source": [
    "### 3. Random Forest"
   ]
  },
  {
   "cell_type": "markdown",
   "id": "03efb621-31f7-4d46-8c27-62542eb40fb4",
   "metadata": {},
   "source": [
    "* Train a random forest classifier to predict whether a country is \"developed\" in a given year based on all the other features, including life expectancy."
   ]
  },
  {
   "cell_type": "code",
   "execution_count": 6,
   "id": "c1ad9eb6-3d27-4f26-a3b7-45ddb2558ea2",
   "metadata": {},
   "outputs": [],
   "source": [
    "# YOUR CODE HERE"
   ]
  },
  {
   "cell_type": "markdown",
   "id": "a6417d3c-b998-4a34-9546-3a13929ba1b7",
   "metadata": {},
   "source": [
    "* **Bonus:** Can you figure out how to extract feature importance from the classifier?"
   ]
  }
 ],
 "metadata": {
  "kernelspec": {
   "display_name": "Python 3 (ipykernel)",
   "language": "python",
   "name": "python3"
  },
  "language_info": {
   "codemirror_mode": {
    "name": "ipython",
    "version": 3
   },
   "file_extension": ".py",
   "mimetype": "text/x-python",
   "name": "python",
   "nbconvert_exporter": "python",
   "pygments_lexer": "ipython3",
   "version": "3.12.4"
  }
 },
 "nbformat": 4,
 "nbformat_minor": 5
}
